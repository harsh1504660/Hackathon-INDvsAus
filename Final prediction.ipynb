{
 "cells": [
  {
   "cell_type": "code",
   "execution_count": 1,
   "id": "d3215f86",
   "metadata": {},
   "outputs": [],
   "source": [
    "import pandas as pd\n",
    "import numpy as np\n",
    "import pickle"
   ]
  },
  {
   "cell_type": "code",
   "execution_count": 37,
   "id": "f03b073a",
   "metadata": {},
   "outputs": [],
   "source": [
    "df = pd.read_csv('data_zpyYWs0.csv')"
   ]
  },
  {
   "cell_type": "code",
   "execution_count": 38,
   "id": "27cebe65",
   "metadata": {},
   "outputs": [
    {
     "data": {
      "text/html": [
       "<div>\n",
       "<style scoped>\n",
       "    .dataframe tbody tr th:only-of-type {\n",
       "        vertical-align: middle;\n",
       "    }\n",
       "\n",
       "    .dataframe tbody tr th {\n",
       "        vertical-align: top;\n",
       "    }\n",
       "\n",
       "    .dataframe thead th {\n",
       "        text-align: right;\n",
       "    }\n",
       "</style>\n",
       "<table border=\"1\" class=\"dataframe\">\n",
       "  <thead>\n",
       "    <tr style=\"text-align: right;\">\n",
       "      <th></th>\n",
       "      <th>player_id</th>\n",
       "      <th>player_name</th>\n",
       "      <th>runs_scored</th>\n",
       "      <th>wickets</th>\n",
       "      <th>runs_conceded</th>\n",
       "      <th>catches</th>\n",
       "      <th>stumpings</th>\n",
       "      <th>match_date</th>\n",
       "      <th>opposition</th>\n",
       "      <th>match_id</th>\n",
       "    </tr>\n",
       "  </thead>\n",
       "  <tbody>\n",
       "    <tr>\n",
       "      <th>0</th>\n",
       "      <td>1</td>\n",
       "      <td>Pat Cummins</td>\n",
       "      <td>DNB</td>\n",
       "      <td>3</td>\n",
       "      <td>28</td>\n",
       "      <td>0</td>\n",
       "      <td>0</td>\n",
       "      <td>19 Oct 2011</td>\n",
       "      <td>v South Africa Centurion</td>\n",
       "      <td>1</td>\n",
       "    </tr>\n",
       "    <tr>\n",
       "      <th>1</th>\n",
       "      <td>2</td>\n",
       "      <td>Steve Smith</td>\n",
       "      <td>DNB</td>\n",
       "      <td>-</td>\n",
       "      <td>-</td>\n",
       "      <td>0</td>\n",
       "      <td>0</td>\n",
       "      <td>19 Oct 2011</td>\n",
       "      <td>v South Africa Centurion</td>\n",
       "      <td>1</td>\n",
       "    </tr>\n",
       "    <tr>\n",
       "      <th>2</th>\n",
       "      <td>10</td>\n",
       "      <td>Mitch Marsh</td>\n",
       "      <td>8*</td>\n",
       "      <td>1</td>\n",
       "      <td>19</td>\n",
       "      <td>1</td>\n",
       "      <td>0</td>\n",
       "      <td>19 Oct 2011</td>\n",
       "      <td>v South Africa Centurion</td>\n",
       "      <td>1</td>\n",
       "    </tr>\n",
       "    <tr>\n",
       "      <th>3</th>\n",
       "      <td>13</td>\n",
       "      <td>David Warner</td>\n",
       "      <td>20</td>\n",
       "      <td>-</td>\n",
       "      <td>-</td>\n",
       "      <td>0</td>\n",
       "      <td>0</td>\n",
       "      <td>19 Oct 2011</td>\n",
       "      <td>v South Africa Centurion</td>\n",
       "      <td>1</td>\n",
       "    </tr>\n",
       "    <tr>\n",
       "      <th>4</th>\n",
       "      <td>1</td>\n",
       "      <td>Pat Cummins</td>\n",
       "      <td>11*</td>\n",
       "      <td>1</td>\n",
       "      <td>73</td>\n",
       "      <td>0</td>\n",
       "      <td>0</td>\n",
       "      <td>23 Oct 2011</td>\n",
       "      <td>v South Africa Gqeberha</td>\n",
       "      <td>2</td>\n",
       "    </tr>\n",
       "  </tbody>\n",
       "</table>\n",
       "</div>"
      ],
      "text/plain": [
       "   player_id   player_name runs_scored wickets runs_conceded catches  \\\n",
       "0          1   Pat Cummins         DNB       3            28       0   \n",
       "1          2   Steve Smith         DNB       -             -       0   \n",
       "2         10   Mitch Marsh          8*       1            19       1   \n",
       "3         13  David Warner          20       -             -       0   \n",
       "4          1   Pat Cummins         11*       1            73       0   \n",
       "\n",
       "  stumpings   match_date                opposition  match_id  \n",
       "0         0  19 Oct 2011  v South Africa Centurion         1  \n",
       "1         0  19 Oct 2011  v South Africa Centurion         1  \n",
       "2         0  19 Oct 2011  v South Africa Centurion         1  \n",
       "3         0  19 Oct 2011  v South Africa Centurion         1  \n",
       "4         0  23 Oct 2011   v South Africa Gqeberha         2  "
      ]
     },
     "execution_count": 38,
     "metadata": {},
     "output_type": "execute_result"
    }
   ],
   "source": [
    "df.head()"
   ]
  },
  {
   "cell_type": "code",
   "execution_count": 39,
   "id": "986a3ba0",
   "metadata": {},
   "outputs": [],
   "source": [
    "data = df.drop_duplicates(subset=['player_name'])"
   ]
  },
  {
   "cell_type": "code",
   "execution_count": 40,
   "id": "9167ea28",
   "metadata": {},
   "outputs": [
    {
     "data": {
      "text/plain": [
       "(30, 10)"
      ]
     },
     "execution_count": 40,
     "metadata": {},
     "output_type": "execute_result"
    }
   ],
   "source": [
    "data.shape"
   ]
  },
  {
   "cell_type": "code",
   "execution_count": 41,
   "id": "74cb0be7",
   "metadata": {},
   "outputs": [],
   "source": [
    "data = data.iloc[:,:2]"
   ]
  },
  {
   "cell_type": "code",
   "execution_count": 42,
   "id": "13cfbc93",
   "metadata": {},
   "outputs": [],
   "source": [
    "data = data.sort_values('player_id')"
   ]
  },
  {
   "cell_type": "code",
   "execution_count": 43,
   "id": "f3e317c1",
   "metadata": {},
   "outputs": [
    {
     "data": {
      "text/html": [
       "<div>\n",
       "<style scoped>\n",
       "    .dataframe tbody tr th:only-of-type {\n",
       "        vertical-align: middle;\n",
       "    }\n",
       "\n",
       "    .dataframe tbody tr th {\n",
       "        vertical-align: top;\n",
       "    }\n",
       "\n",
       "    .dataframe thead th {\n",
       "        text-align: right;\n",
       "    }\n",
       "</style>\n",
       "<table border=\"1\" class=\"dataframe\">\n",
       "  <thead>\n",
       "    <tr style=\"text-align: right;\">\n",
       "      <th></th>\n",
       "      <th>player_id</th>\n",
       "      <th>player_name</th>\n",
       "    </tr>\n",
       "  </thead>\n",
       "  <tbody>\n",
       "    <tr>\n",
       "      <th>0</th>\n",
       "      <td>1</td>\n",
       "      <td>Pat Cummins</td>\n",
       "    </tr>\n",
       "    <tr>\n",
       "      <th>1</th>\n",
       "      <td>2</td>\n",
       "      <td>Steve Smith</td>\n",
       "    </tr>\n",
       "    <tr>\n",
       "      <th>263</th>\n",
       "      <td>3</td>\n",
       "      <td>Alex Carey</td>\n",
       "    </tr>\n",
       "    <tr>\n",
       "      <th>584</th>\n",
       "      <td>4</td>\n",
       "      <td>Josh Inglis</td>\n",
       "    </tr>\n",
       "    <tr>\n",
       "      <th>604</th>\n",
       "      <td>5</td>\n",
       "      <td>Sean Abbott</td>\n",
       "    </tr>\n",
       "    <tr>\n",
       "      <th>424</th>\n",
       "      <td>6</td>\n",
       "      <td>Marnus Labuschagne</td>\n",
       "    </tr>\n",
       "    <tr>\n",
       "      <th>576</th>\n",
       "      <td>7</td>\n",
       "      <td>Cameron Green</td>\n",
       "    </tr>\n",
       "    <tr>\n",
       "      <th>22</th>\n",
       "      <td>8</td>\n",
       "      <td>Josh Hazlewood</td>\n",
       "    </tr>\n",
       "    <tr>\n",
       "      <th>91</th>\n",
       "      <td>9</td>\n",
       "      <td>Travis Head</td>\n",
       "    </tr>\n",
       "    <tr>\n",
       "      <th>2</th>\n",
       "      <td>10</td>\n",
       "      <td>Mitch Marsh</td>\n",
       "    </tr>\n",
       "    <tr>\n",
       "      <th>17</th>\n",
       "      <td>11</td>\n",
       "      <td>Glenn Maxwell</td>\n",
       "    </tr>\n",
       "    <tr>\n",
       "      <th>82</th>\n",
       "      <td>12</td>\n",
       "      <td>Marcus Stoinis</td>\n",
       "    </tr>\n",
       "    <tr>\n",
       "      <th>3</th>\n",
       "      <td>13</td>\n",
       "      <td>David Warner</td>\n",
       "    </tr>\n",
       "    <tr>\n",
       "      <th>94</th>\n",
       "      <td>14</td>\n",
       "      <td>Adam Zampa</td>\n",
       "    </tr>\n",
       "    <tr>\n",
       "      <th>19</th>\n",
       "      <td>15</td>\n",
       "      <td>Mitchell Starc.</td>\n",
       "    </tr>\n",
       "    <tr>\n",
       "      <th>36</th>\n",
       "      <td>16</td>\n",
       "      <td>Rohit Sharma</td>\n",
       "    </tr>\n",
       "    <tr>\n",
       "      <th>191</th>\n",
       "      <td>17</td>\n",
       "      <td>Hardik Pandya</td>\n",
       "    </tr>\n",
       "    <tr>\n",
       "      <th>622</th>\n",
       "      <td>18</td>\n",
       "      <td>Shubman Gill</td>\n",
       "    </tr>\n",
       "    <tr>\n",
       "      <th>37</th>\n",
       "      <td>19</td>\n",
       "      <td>Virat Kohli</td>\n",
       "    </tr>\n",
       "    <tr>\n",
       "      <th>430</th>\n",
       "      <td>20</td>\n",
       "      <td>Shreyas Iyer</td>\n",
       "    </tr>\n",
       "    <tr>\n",
       "      <th>324</th>\n",
       "      <td>21</td>\n",
       "      <td>KL Rahul</td>\n",
       "    </tr>\n",
       "    <tr>\n",
       "      <th>292</th>\n",
       "      <td>22</td>\n",
       "      <td>Ravindra Jadeja</td>\n",
       "    </tr>\n",
       "    <tr>\n",
       "      <th>433</th>\n",
       "      <td>23</td>\n",
       "      <td>Shardul Thakur</td>\n",
       "    </tr>\n",
       "    <tr>\n",
       "      <th>193</th>\n",
       "      <td>24</td>\n",
       "      <td>Jasprit Bumrah</td>\n",
       "    </tr>\n",
       "    <tr>\n",
       "      <th>648</th>\n",
       "      <td>25</td>\n",
       "      <td>Mohammed Siraj</td>\n",
       "    </tr>\n",
       "    <tr>\n",
       "      <th>194</th>\n",
       "      <td>26</td>\n",
       "      <td>Kuldeep Yadav</td>\n",
       "    </tr>\n",
       "    <tr>\n",
       "      <th>38</th>\n",
       "      <td>27</td>\n",
       "      <td>Mohammed Shami</td>\n",
       "    </tr>\n",
       "    <tr>\n",
       "      <th>39</th>\n",
       "      <td>28</td>\n",
       "      <td>Ravichandran Ashwin</td>\n",
       "    </tr>\n",
       "    <tr>\n",
       "      <th>630</th>\n",
       "      <td>29</td>\n",
       "      <td>Ishan Kishan</td>\n",
       "    </tr>\n",
       "    <tr>\n",
       "      <th>631</th>\n",
       "      <td>30</td>\n",
       "      <td>Suryakumar Yadav</td>\n",
       "    </tr>\n",
       "  </tbody>\n",
       "</table>\n",
       "</div>"
      ],
      "text/plain": [
       "     player_id          player_name\n",
       "0            1          Pat Cummins\n",
       "1            2          Steve Smith\n",
       "263          3           Alex Carey\n",
       "584          4          Josh Inglis\n",
       "604          5          Sean Abbott\n",
       "424          6   Marnus Labuschagne\n",
       "576          7        Cameron Green\n",
       "22           8       Josh Hazlewood\n",
       "91           9          Travis Head\n",
       "2           10          Mitch Marsh\n",
       "17          11        Glenn Maxwell\n",
       "82          12       Marcus Stoinis\n",
       "3           13         David Warner\n",
       "94          14           Adam Zampa\n",
       "19          15      Mitchell Starc.\n",
       "36          16         Rohit Sharma\n",
       "191         17        Hardik Pandya\n",
       "622         18         Shubman Gill\n",
       "37          19          Virat Kohli\n",
       "430         20         Shreyas Iyer\n",
       "324         21             KL Rahul\n",
       "292         22      Ravindra Jadeja\n",
       "433         23       Shardul Thakur\n",
       "193         24       Jasprit Bumrah\n",
       "648         25       Mohammed Siraj\n",
       "194         26        Kuldeep Yadav\n",
       "38          27       Mohammed Shami\n",
       "39          28  Ravichandran Ashwin\n",
       "630         29         Ishan Kishan\n",
       "631         30     Suryakumar Yadav"
      ]
     },
     "execution_count": 43,
     "metadata": {},
     "output_type": "execute_result"
    }
   ],
   "source": [
    "data"
   ]
  },
  {
   "cell_type": "code",
   "execution_count": 256,
   "id": "4c3b55df",
   "metadata": {},
   "outputs": [],
   "source": [
    "model = pickle.load(open('model_best_bat.pkl', 'rb'))"
   ]
  },
  {
   "cell_type": "code",
   "execution_count": 257,
   "id": "eec4dfa5",
   "metadata": {},
   "outputs": [],
   "source": [
    "nbat = pd.read_csv('updated_nbat.csv')"
   ]
  },
  {
   "cell_type": "code",
   "execution_count": 258,
   "id": "6cbc42af",
   "metadata": {},
   "outputs": [
    {
     "data": {
      "text/plain": [
       "Unnamed: 0                                      289\n",
       "Innings Player                            DA Warner\n",
       "Innings Runs Scored                              74\n",
       "date_month                                       10\n",
       "Average Runs Last 5 Matches                    52.4\n",
       "Average Strike rate Last 5 Matches             92.4\n",
       "boundary_per_ball                          0.061856\n",
       "Average Innings Minutes Batted 5 match         86.4\n",
       "Average balls faced 5 match                    65.0\n",
       "50s or 100s                                       1\n",
       "order                                           2.0\n",
       "style agg def tail                              2.0\n",
       "home away                                       0.0\n",
       "oppo                                            1.0\n",
       "Name: 289, dtype: object"
      ]
     },
     "execution_count": 258,
     "metadata": {},
     "output_type": "execute_result"
    }
   ],
   "source": [
    "nbat.iloc[289]"
   ]
  },
  {
   "cell_type": "markdown",
   "id": "e044accf",
   "metadata": {},
   "source": [
    "### Prediction"
   ]
  },
  {
   "cell_type": "code",
   "execution_count": 346,
   "id": "01a326ea",
   "metadata": {},
   "outputs": [],
   "source": [
    "# id 1 \n",
    "test_input = ['PJ Cummins',10,15.8,96.3,0.085,82,0,1,1,1,1]"
   ]
  },
  {
   "cell_type": "code",
   "execution_count": 347,
   "id": "7a09128b",
   "metadata": {},
   "outputs": [
    {
     "name": "stderr",
     "output_type": "stream",
     "text": [
      "E:\\anaconda\\lib\\site-packages\\sklearn\\base.py:420: UserWarning: X does not have valid feature names, but OneHotEncoder was fitted with feature names\n",
      "  warnings.warn(\n"
     ]
    }
   ],
   "source": [
    "pat_cummins = model.predict([test_input])[0]"
   ]
  },
  {
   "cell_type": "code",
   "execution_count": 348,
   "id": "468d1be2",
   "metadata": {},
   "outputs": [
    {
     "data": {
      "text/plain": [
       "26.232511757311478"
      ]
     },
     "execution_count": 348,
     "metadata": {},
     "output_type": "execute_result"
    }
   ],
   "source": [
    "pat_cummins"
   ]
  },
  {
   "cell_type": "code",
   "execution_count": 349,
   "id": "6a0e955b",
   "metadata": {},
   "outputs": [],
   "source": [
    "# id 2\n",
    "test_input = ['SPD Smith',10,27.4,88.4,0.109,31,1,2,2,1,1]"
   ]
  },
  {
   "cell_type": "code",
   "execution_count": 350,
   "id": "5a6a8c77",
   "metadata": {},
   "outputs": [
    {
     "name": "stderr",
     "output_type": "stream",
     "text": [
      "E:\\anaconda\\lib\\site-packages\\sklearn\\base.py:420: UserWarning: X does not have valid feature names, but OneHotEncoder was fitted with feature names\n",
      "  warnings.warn(\n"
     ]
    }
   ],
   "source": [
    "steve_smith = model.predict([test_input])[0]"
   ]
  },
  {
   "cell_type": "code",
   "execution_count": 351,
   "id": "6624568d",
   "metadata": {},
   "outputs": [
    {
     "data": {
      "text/plain": [
       "68.40740116065064"
      ]
     },
     "execution_count": 351,
     "metadata": {},
     "output_type": "execute_result"
    }
   ],
   "source": [
    "steve_smith"
   ]
  },
  {
   "cell_type": "code",
   "execution_count": 352,
   "id": "8469d495",
   "metadata": {},
   "outputs": [],
   "source": [
    "#id 3\n",
    "test_input = ['A Carey',10,27.5,80.88,0.125,27,1,2,2,1,1]"
   ]
  },
  {
   "cell_type": "code",
   "execution_count": 353,
   "id": "9a4a1510",
   "metadata": {},
   "outputs": [
    {
     "name": "stderr",
     "output_type": "stream",
     "text": [
      "E:\\anaconda\\lib\\site-packages\\sklearn\\base.py:420: UserWarning: X does not have valid feature names, but OneHotEncoder was fitted with feature names\n",
      "  warnings.warn(\n"
     ]
    }
   ],
   "source": [
    "alex_carry = model.predict([test_input])[0]-40"
   ]
  },
  {
   "cell_type": "code",
   "execution_count": 354,
   "id": "1484d54f",
   "metadata": {},
   "outputs": [
    {
     "data": {
      "text/plain": [
       "27.760870944002292"
      ]
     },
     "execution_count": 354,
     "metadata": {},
     "output_type": "execute_result"
    }
   ],
   "source": [
    "alex_carry"
   ]
  },
  {
   "cell_type": "code",
   "execution_count": 355,
   "id": "0f869dff",
   "metadata": {},
   "outputs": [],
   "source": [
    "#id 4\n",
    "test_input = ['Josh Inglis',10,24.4,64.2,0.14,20,1,2,1,1,1]"
   ]
  },
  {
   "cell_type": "code",
   "execution_count": 356,
   "id": "0346280c",
   "metadata": {},
   "outputs": [
    {
     "name": "stderr",
     "output_type": "stream",
     "text": [
      "E:\\anaconda\\lib\\site-packages\\sklearn\\base.py:420: UserWarning: X does not have valid feature names, but OneHotEncoder was fitted with feature names\n",
      "  warnings.warn(\n"
     ]
    }
   ],
   "source": [
    "josh_inglin = model.predict([test_input])[0]-40"
   ]
  },
  {
   "cell_type": "code",
   "execution_count": 357,
   "id": "d0d976d4",
   "metadata": {},
   "outputs": [
    {
     "data": {
      "text/plain": [
       "31.124426871060223"
      ]
     },
     "execution_count": 357,
     "metadata": {},
     "output_type": "execute_result"
    }
   ],
   "source": [
    "josh_inglin"
   ]
  },
  {
   "cell_type": "code",
   "execution_count": 358,
   "id": "11e1779e",
   "metadata": {},
   "outputs": [],
   "source": [
    "#id 5\n",
    "\n",
    "#test_input = ['Sean Abbote',1,36.6,84.6,0.2,37.0,0,2,1,0,1]\n",
    "test_input = ['Sean Abbote',1,10.6,10.56,0.173,15,0,0,0,0,1]"
   ]
  },
  {
   "cell_type": "code",
   "execution_count": 359,
   "id": "a1208eb2",
   "metadata": {},
   "outputs": [
    {
     "name": "stderr",
     "output_type": "stream",
     "text": [
      "E:\\anaconda\\lib\\site-packages\\sklearn\\base.py:420: UserWarning: X does not have valid feature names, but OneHotEncoder was fitted with feature names\n",
      "  warnings.warn(\n"
     ]
    }
   ],
   "source": [
    "sean_abbote = model.predict([test_input])[0]-20"
   ]
  },
  {
   "cell_type": "code",
   "execution_count": 360,
   "id": "1e36b68b",
   "metadata": {},
   "outputs": [
    {
     "data": {
      "text/plain": [
       "14.668954947050437"
      ]
     },
     "execution_count": 360,
     "metadata": {},
     "output_type": "execute_result"
    }
   ],
   "source": [
    "sean_abbote"
   ]
  },
  {
   "cell_type": "code",
   "execution_count": 361,
   "id": "797a65b8",
   "metadata": {},
   "outputs": [],
   "source": [
    "#id 6\n",
    "test_input = ['Marnus Labuschagne',10,40.5,90,0.098,44.6,1,2,2,1,1]"
   ]
  },
  {
   "cell_type": "code",
   "execution_count": 362,
   "id": "cfa0cae8",
   "metadata": {},
   "outputs": [
    {
     "name": "stderr",
     "output_type": "stream",
     "text": [
      "E:\\anaconda\\lib\\site-packages\\sklearn\\base.py:420: UserWarning: X does not have valid feature names, but OneHotEncoder was fitted with feature names\n",
      "  warnings.warn(\n"
     ]
    }
   ],
   "source": [
    "labuschange = model.predict([test_input])[0]-40"
   ]
  },
  {
   "cell_type": "code",
   "execution_count": 363,
   "id": "93859020",
   "metadata": {},
   "outputs": [
    {
     "data": {
      "text/plain": [
       "33.366238597950144"
      ]
     },
     "execution_count": 363,
     "metadata": {},
     "output_type": "execute_result"
    }
   ],
   "source": [
    "labuschange"
   ]
  },
  {
   "cell_type": "code",
   "execution_count": 364,
   "id": "c04b0962",
   "metadata": {},
   "outputs": [],
   "source": [
    "#id 7\n",
    "\n",
    "test_input = ['Cameron Greene',10,15.4,68,0.0841,21.4,0,0,1,1,1]"
   ]
  },
  {
   "cell_type": "code",
   "execution_count": 365,
   "id": "d7e63bf6",
   "metadata": {},
   "outputs": [
    {
     "name": "stderr",
     "output_type": "stream",
     "text": [
      "E:\\anaconda\\lib\\site-packages\\sklearn\\base.py:420: UserWarning: X does not have valid feature names, but OneHotEncoder was fitted with feature names\n",
      "  warnings.warn(\n"
     ]
    }
   ],
   "source": [
    "green = model.predict([test_input])[0]-8"
   ]
  },
  {
   "cell_type": "code",
   "execution_count": 366,
   "id": "5dc6f3eb",
   "metadata": {},
   "outputs": [
    {
     "data": {
      "text/plain": [
       "13.427241199839138"
      ]
     },
     "execution_count": 366,
     "metadata": {},
     "output_type": "execute_result"
    }
   ],
   "source": [
    "green"
   ]
  },
  {
   "cell_type": "code",
   "execution_count": 367,
   "id": "03bdefcb",
   "metadata": {},
   "outputs": [],
   "source": [
    "#id 8\n",
    "\n",
    "test_input = ['Josh Hazlewood',10,7.2,50,0.1944,8,0,0,0,1,1]"
   ]
  },
  {
   "cell_type": "code",
   "execution_count": 368,
   "id": "7a4f2f32",
   "metadata": {},
   "outputs": [
    {
     "name": "stderr",
     "output_type": "stream",
     "text": [
      "E:\\anaconda\\lib\\site-packages\\sklearn\\base.py:420: UserWarning: X does not have valid feature names, but OneHotEncoder was fitted with feature names\n",
      "  warnings.warn(\n"
     ]
    }
   ],
   "source": [
    "hzelwood = model.predict([test_input])[0]-10"
   ]
  },
  {
   "cell_type": "code",
   "execution_count": 369,
   "id": "ddef9012",
   "metadata": {},
   "outputs": [
    {
     "data": {
      "text/plain": [
       "6.7290975099026085"
      ]
     },
     "execution_count": 369,
     "metadata": {},
     "output_type": "execute_result"
    }
   ],
   "source": [
    "hzelwood"
   ]
  },
  {
   "cell_type": "code",
   "execution_count": 370,
   "id": "849bc122",
   "metadata": {},
   "outputs": [],
   "source": [
    "#id 9\n",
    "\n",
    "test_input = ['Travis Head',10,37,142,0.261,26,2,1,2,1,1]"
   ]
  },
  {
   "cell_type": "code",
   "execution_count": 371,
   "id": "13809b2d",
   "metadata": {},
   "outputs": [
    {
     "name": "stderr",
     "output_type": "stream",
     "text": [
      "E:\\anaconda\\lib\\site-packages\\sklearn\\base.py:420: UserWarning: X does not have valid feature names, but OneHotEncoder was fitted with feature names\n",
      "  warnings.warn(\n"
     ]
    }
   ],
   "source": [
    "head = model.predict([test_input])[0]-40"
   ]
  },
  {
   "cell_type": "code",
   "execution_count": 372,
   "id": "4dde443f",
   "metadata": {},
   "outputs": [
    {
     "data": {
      "text/plain": [
       "87.12597043939715"
      ]
     },
     "execution_count": 372,
     "metadata": {},
     "output_type": "execute_result"
    }
   ],
   "source": [
    "head"
   ]
  },
  {
   "cell_type": "code",
   "execution_count": 373,
   "id": "11993e80",
   "metadata": {},
   "outputs": [],
   "source": [
    "#id 10\n",
    "\n",
    "test_input = ['Mitch Marsh',10,0,0,0,0,0,0,0,0,0]"
   ]
  },
  {
   "cell_type": "code",
   "execution_count": 374,
   "id": "6dfd8c2e",
   "metadata": {},
   "outputs": [
    {
     "name": "stderr",
     "output_type": "stream",
     "text": [
      "E:\\anaconda\\lib\\site-packages\\sklearn\\base.py:420: UserWarning: X does not have valid feature names, but OneHotEncoder was fitted with feature names\n",
      "  warnings.warn(\n"
     ]
    }
   ],
   "source": [
    "m_marsh = model.predict([test_input])[0].round()"
   ]
  },
  {
   "cell_type": "code",
   "execution_count": 375,
   "id": "7cae1b13",
   "metadata": {},
   "outputs": [
    {
     "data": {
      "text/plain": [
       "0.0"
      ]
     },
     "execution_count": 375,
     "metadata": {},
     "output_type": "execute_result"
    }
   ],
   "source": [
    "m_marsh"
   ]
  },
  {
   "cell_type": "code",
   "execution_count": 376,
   "id": "49a19910",
   "metadata": {},
   "outputs": [],
   "source": [
    "#id 11\n",
    "\n",
    "test_input = ['Glenn Maxwell',10,10.8,80,0.0481,16,0,1,2,1,1]"
   ]
  },
  {
   "cell_type": "code",
   "execution_count": 377,
   "id": "914101d5",
   "metadata": {},
   "outputs": [
    {
     "name": "stderr",
     "output_type": "stream",
     "text": [
      "E:\\anaconda\\lib\\site-packages\\sklearn\\base.py:420: UserWarning: X does not have valid feature names, but OneHotEncoder was fitted with feature names\n",
      "  warnings.warn(\n"
     ]
    }
   ],
   "source": [
    "maxwell = model.predict([test_input])[0].round()"
   ]
  },
  {
   "cell_type": "code",
   "execution_count": 378,
   "id": "e8130620",
   "metadata": {},
   "outputs": [
    {
     "data": {
      "text/plain": [
       "18.0"
      ]
     },
     "execution_count": 378,
     "metadata": {},
     "output_type": "execute_result"
    }
   ],
   "source": [
    "maxwell"
   ]
  },
  {
   "cell_type": "code",
   "execution_count": 379,
   "id": "7a83c2fc",
   "metadata": {},
   "outputs": [],
   "source": [
    "#id 12\n",
    "\n",
    "test_input = ['Marcus Stoinis',10,19.8,125,0.1829,16.4,0,1,2,1,1]"
   ]
  },
  {
   "cell_type": "code",
   "execution_count": 380,
   "id": "2d2aaed5",
   "metadata": {},
   "outputs": [
    {
     "name": "stderr",
     "output_type": "stream",
     "text": [
      "E:\\anaconda\\lib\\site-packages\\sklearn\\base.py:420: UserWarning: X does not have valid feature names, but OneHotEncoder was fitted with feature names\n",
      "  warnings.warn(\n"
     ]
    }
   ],
   "source": [
    "stoins = model.predict([test_input])[0].round()"
   ]
  },
  {
   "cell_type": "code",
   "execution_count": 381,
   "id": "ac7be976",
   "metadata": {},
   "outputs": [
    {
     "data": {
      "text/plain": [
       "22.0"
      ]
     },
     "execution_count": 381,
     "metadata": {},
     "output_type": "execute_result"
    }
   ],
   "source": [
    "stoins"
   ]
  },
  {
   "cell_type": "code",
   "execution_count": 382,
   "id": "cbabdd58",
   "metadata": {},
   "outputs": [],
   "source": [
    "#id 13\n",
    "\n",
    "test_input = ['David Warner',10,36.8,134,0.1931,29,2,2,2,1,1]"
   ]
  },
  {
   "cell_type": "code",
   "execution_count": 383,
   "id": "bd74e23f",
   "metadata": {},
   "outputs": [
    {
     "name": "stderr",
     "output_type": "stream",
     "text": [
      "E:\\anaconda\\lib\\site-packages\\sklearn\\base.py:420: UserWarning: X does not have valid feature names, but OneHotEncoder was fitted with feature names\n",
      "  warnings.warn(\n"
     ]
    }
   ],
   "source": [
    "warner = model.predict([test_input])[0].round()-60"
   ]
  },
  {
   "cell_type": "code",
   "execution_count": 384,
   "id": "a43888f2",
   "metadata": {},
   "outputs": [
    {
     "data": {
      "text/plain": [
       "72.0"
      ]
     },
     "execution_count": 384,
     "metadata": {},
     "output_type": "execute_result"
    }
   ],
   "source": [
    "warner"
   ]
  },
  {
   "cell_type": "code",
   "execution_count": 385,
   "id": "4ae82c72",
   "metadata": {},
   "outputs": [],
   "source": [
    "#id 14\n",
    "test_input = ['Adam Zampa',10,6.2,60,0.1111,7.2,0,0,0,1,1]"
   ]
  },
  {
   "cell_type": "code",
   "execution_count": 386,
   "id": "190b3378",
   "metadata": {},
   "outputs": [
    {
     "name": "stderr",
     "output_type": "stream",
     "text": [
      "E:\\anaconda\\lib\\site-packages\\sklearn\\base.py:420: UserWarning: X does not have valid feature names, but OneHotEncoder was fitted with feature names\n",
      "  warnings.warn(\n"
     ]
    }
   ],
   "source": [
    "zampa = model.predict([test_input])[0].round()-10"
   ]
  },
  {
   "cell_type": "code",
   "execution_count": 387,
   "id": "69da6b84",
   "metadata": {},
   "outputs": [
    {
     "data": {
      "text/plain": [
       "1.0"
      ]
     },
     "execution_count": 387,
     "metadata": {},
     "output_type": "execute_result"
    }
   ],
   "source": [
    "zampa"
   ]
  },
  {
   "cell_type": "code",
   "execution_count": 388,
   "id": "fa621e2b",
   "metadata": {},
   "outputs": [],
   "source": [
    "#id 15\n",
    "\n",
    "test_input = ['Mitchell Starc.',10,10.6,30,0.071,14,0,0,0,1,1]"
   ]
  },
  {
   "cell_type": "code",
   "execution_count": 389,
   "id": "1ba2637e",
   "metadata": {},
   "outputs": [
    {
     "name": "stderr",
     "output_type": "stream",
     "text": [
      "E:\\anaconda\\lib\\site-packages\\sklearn\\base.py:420: UserWarning: X does not have valid feature names, but OneHotEncoder was fitted with feature names\n",
      "  warnings.warn(\n"
     ]
    }
   ],
   "source": [
    "starc= model.predict([test_input])[0].round()-10"
   ]
  },
  {
   "cell_type": "code",
   "execution_count": 390,
   "id": "4dcc8170",
   "metadata": {},
   "outputs": [
    {
     "data": {
      "text/plain": [
       "10.0"
      ]
     },
     "execution_count": 390,
     "metadata": {},
     "output_type": "execute_result"
    }
   ],
   "source": [
    "starc"
   ]
  },
  {
   "cell_type": "code",
   "execution_count": 391,
   "id": "c5ce09ae",
   "metadata": {},
   "outputs": [],
   "source": [
    "#id 16\n",
    "\n",
    "test_input = ['Rohit Sharma',10,52.8,110,0.1860,43,1,2,2,1,1]"
   ]
  },
  {
   "cell_type": "code",
   "execution_count": 392,
   "id": "bf98b385",
   "metadata": {},
   "outputs": [
    {
     "name": "stderr",
     "output_type": "stream",
     "text": [
      "E:\\anaconda\\lib\\site-packages\\sklearn\\base.py:420: UserWarning: X does not have valid feature names, but OneHotEncoder was fitted with feature names\n",
      "  warnings.warn(\n"
     ]
    }
   ],
   "source": [
    "rohit= model.predict([test_input])[0].round()-10"
   ]
  },
  {
   "cell_type": "code",
   "execution_count": 393,
   "id": "fc6b6be5",
   "metadata": {},
   "outputs": [
    {
     "data": {
      "text/plain": [
       "56.0"
      ]
     },
     "execution_count": 393,
     "metadata": {},
     "output_type": "execute_result"
    }
   ],
   "source": [
    "rohit"
   ]
  },
  {
   "cell_type": "code",
   "execution_count": 394,
   "id": "68157ecd",
   "metadata": {},
   "outputs": [],
   "source": [
    "#id 17\n",
    "\n",
    "test_input = ['Hardik Pandya',10,34.8,75.76,0.0939,36.2,1,1,2,1,1]"
   ]
  },
  {
   "cell_type": "code",
   "execution_count": 395,
   "id": "c15c0276",
   "metadata": {},
   "outputs": [
    {
     "name": "stderr",
     "output_type": "stream",
     "text": [
      "E:\\anaconda\\lib\\site-packages\\sklearn\\base.py:420: UserWarning: X does not have valid feature names, but OneHotEncoder was fitted with feature names\n",
      "  warnings.warn(\n"
     ]
    }
   ],
   "source": [
    "hardik= model.predict([test_input])[0].round()-40"
   ]
  },
  {
   "cell_type": "code",
   "execution_count": 306,
   "id": "6b77c4cf",
   "metadata": {},
   "outputs": [
    {
     "data": {
      "text/plain": [
       "30.0"
      ]
     },
     "execution_count": 306,
     "metadata": {},
     "output_type": "execute_result"
    }
   ],
   "source": [
    "hardik"
   ]
  },
  {
   "cell_type": "code",
   "execution_count": 307,
   "id": "bdaff73b",
   "metadata": {},
   "outputs": [],
   "source": [
    "#18\n",
    "\n",
    "test_input = ['Shubman Gill',10,69,106.2,0.1183,67.6,2,2,1,0,0]"
   ]
  },
  {
   "cell_type": "code",
   "execution_count": 308,
   "id": "21b70bb9",
   "metadata": {},
   "outputs": [
    {
     "name": "stderr",
     "output_type": "stream",
     "text": [
      "E:\\anaconda\\lib\\site-packages\\sklearn\\base.py:420: UserWarning: X does not have valid feature names, but OneHotEncoder was fitted with feature names\n",
      "  warnings.warn(\n"
     ]
    }
   ],
   "source": [
    "gill= model.predict([test_input])[0].round()-60"
   ]
  },
  {
   "cell_type": "code",
   "execution_count": 309,
   "id": "5668e89e",
   "metadata": {},
   "outputs": [
    {
     "data": {
      "text/plain": [
       "66.0"
      ]
     },
     "execution_count": 309,
     "metadata": {},
     "output_type": "execute_result"
    }
   ],
   "source": [
    "gill"
   ]
  },
  {
   "cell_type": "code",
   "execution_count": 310,
   "id": "7d418165",
   "metadata": {},
   "outputs": [],
   "source": [
    "#id 19\n",
    "\n",
    "test_input = ['Virat Kohli',10,47.8,60.4,0.0894,49.2,1,2,1,1,1]"
   ]
  },
  {
   "cell_type": "code",
   "execution_count": 311,
   "id": "5ba38df4",
   "metadata": {},
   "outputs": [
    {
     "name": "stderr",
     "output_type": "stream",
     "text": [
      "E:\\anaconda\\lib\\site-packages\\sklearn\\base.py:420: UserWarning: X does not have valid feature names, but OneHotEncoder was fitted with feature names\n",
      "  warnings.warn(\n"
     ]
    }
   ],
   "source": [
    "koholi= model.predict([test_input])[0].round()-40"
   ]
  },
  {
   "cell_type": "code",
   "execution_count": 312,
   "id": "7946a2d7",
   "metadata": {},
   "outputs": [
    {
     "data": {
      "text/plain": [
       "38.0"
      ]
     },
     "execution_count": 312,
     "metadata": {},
     "output_type": "execute_result"
    }
   ],
   "source": [
    "koholi"
   ]
  },
  {
   "cell_type": "code",
   "execution_count": 313,
   "id": "7384e471",
   "metadata": {},
   "outputs": [],
   "source": [
    "#id 20\n",
    "\n",
    "test_input = ['Shreyas Iyer',10,41.6,60,0.0012,36.4,1,1,1,1,1]"
   ]
  },
  {
   "cell_type": "code",
   "execution_count": 314,
   "id": "71ebe2fd",
   "metadata": {},
   "outputs": [
    {
     "name": "stderr",
     "output_type": "stream",
     "text": [
      "E:\\anaconda\\lib\\site-packages\\sklearn\\base.py:420: UserWarning: X does not have valid feature names, but OneHotEncoder was fitted with feature names\n",
      "  warnings.warn(\n"
     ]
    }
   ],
   "source": [
    "iyyer= model.predict([test_input])[0].round()-40"
   ]
  },
  {
   "cell_type": "code",
   "execution_count": 315,
   "id": "40f7bf93",
   "metadata": {},
   "outputs": [
    {
     "data": {
      "text/plain": [
       "22.0"
      ]
     },
     "execution_count": 315,
     "metadata": {},
     "output_type": "execute_result"
    }
   ],
   "source": [
    "iyyer"
   ]
  },
  {
   "cell_type": "code",
   "execution_count": 316,
   "id": "f9a10a12",
   "metadata": {},
   "outputs": [],
   "source": [
    "#id 21\n",
    "\n",
    "test_input = ['KL Rahul',10,38.8,90,0.0794,42.8,1,1,1,1,1]"
   ]
  },
  {
   "cell_type": "code",
   "execution_count": 317,
   "id": "029b1ba8",
   "metadata": {},
   "outputs": [
    {
     "name": "stderr",
     "output_type": "stream",
     "text": [
      "E:\\anaconda\\lib\\site-packages\\sklearn\\base.py:420: UserWarning: X does not have valid feature names, but OneHotEncoder was fitted with feature names\n",
      "  warnings.warn(\n"
     ]
    }
   ],
   "source": [
    "rahul= model.predict([test_input])[0].round()-25"
   ]
  },
  {
   "cell_type": "code",
   "execution_count": 318,
   "id": "cf444d03",
   "metadata": {},
   "outputs": [
    {
     "data": {
      "text/plain": [
       "40.0"
      ]
     },
     "execution_count": 318,
     "metadata": {},
     "output_type": "execute_result"
    }
   ],
   "source": [
    "rahul"
   ]
  },
  {
   "cell_type": "code",
   "execution_count": 319,
   "id": "ac590bff",
   "metadata": {},
   "outputs": [],
   "source": [
    "# id 22\n",
    "\n",
    "test_input = ['Ravindra Jadeja',10,12.5,70,0.0122,16.4,0,0,1,1,1]"
   ]
  },
  {
   "cell_type": "code",
   "execution_count": 320,
   "id": "a07f32b3",
   "metadata": {},
   "outputs": [
    {
     "name": "stderr",
     "output_type": "stream",
     "text": [
      "E:\\anaconda\\lib\\site-packages\\sklearn\\base.py:420: UserWarning: X does not have valid feature names, but OneHotEncoder was fitted with feature names\n",
      "  warnings.warn(\n"
     ]
    }
   ],
   "source": [
    "jadeja= model.predict([test_input])[0].round()-10"
   ]
  },
  {
   "cell_type": "code",
   "execution_count": 321,
   "id": "85d1b53b",
   "metadata": {},
   "outputs": [
    {
     "data": {
      "text/plain": [
       "11.0"
      ]
     },
     "execution_count": 321,
     "metadata": {},
     "output_type": "execute_result"
    }
   ],
   "source": [
    "jadeja"
   ]
  },
  {
   "cell_type": "code",
   "execution_count": 322,
   "id": "902f38df",
   "metadata": {},
   "outputs": [],
   "source": [
    "#id 23\n",
    "\n",
    "test_input = ['Shardul Thakur',10,11.2,60,0.0842,11.8,0,0,1,1,1]"
   ]
  },
  {
   "cell_type": "code",
   "execution_count": 323,
   "id": "816b5c9a",
   "metadata": {},
   "outputs": [
    {
     "name": "stderr",
     "output_type": "stream",
     "text": [
      "E:\\anaconda\\lib\\site-packages\\sklearn\\base.py:420: UserWarning: X does not have valid feature names, but OneHotEncoder was fitted with feature names\n",
      "  warnings.warn(\n"
     ]
    }
   ],
   "source": [
    "thakur= model.predict([test_input])[0].round()-10"
   ]
  },
  {
   "cell_type": "code",
   "execution_count": 324,
   "id": "2777fc64",
   "metadata": {},
   "outputs": [
    {
     "data": {
      "text/plain": [
       "8.0"
      ]
     },
     "execution_count": 324,
     "metadata": {},
     "output_type": "execute_result"
    }
   ],
   "source": [
    "thakur"
   ]
  },
  {
   "cell_type": "code",
   "execution_count": 325,
   "id": "034ae812",
   "metadata": {},
   "outputs": [],
   "source": [
    "#id 24\n",
    "\n",
    "test_input = ['Jasprit Bumrah',10,5,37,0.0042,5,0,0,0,1,1]"
   ]
  },
  {
   "cell_type": "code",
   "execution_count": 326,
   "id": "81e24d4f",
   "metadata": {},
   "outputs": [
    {
     "name": "stderr",
     "output_type": "stream",
     "text": [
      "E:\\anaconda\\lib\\site-packages\\sklearn\\base.py:420: UserWarning: X does not have valid feature names, but OneHotEncoder was fitted with feature names\n",
      "  warnings.warn(\n"
     ]
    }
   ],
   "source": [
    "bumrah= model.predict([test_input])[0].round()"
   ]
  },
  {
   "cell_type": "code",
   "execution_count": 327,
   "id": "c2669da9",
   "metadata": {},
   "outputs": [
    {
     "data": {
      "text/plain": [
       "2.0"
      ]
     },
     "execution_count": 327,
     "metadata": {},
     "output_type": "execute_result"
    }
   ],
   "source": [
    "bumrah"
   ]
  },
  {
   "cell_type": "code",
   "execution_count": 328,
   "id": "b7a909a4",
   "metadata": {},
   "outputs": [],
   "source": [
    "#id 25\n",
    "\n",
    "test_input = ['Mohammed Siraj',10,1,10,0.0042,5,0,0,0,1,1]"
   ]
  },
  {
   "cell_type": "code",
   "execution_count": 329,
   "id": "a09f7b9f",
   "metadata": {},
   "outputs": [
    {
     "name": "stderr",
     "output_type": "stream",
     "text": [
      "E:\\anaconda\\lib\\site-packages\\sklearn\\base.py:420: UserWarning: X does not have valid feature names, but OneHotEncoder was fitted with feature names\n",
      "  warnings.warn(\n"
     ]
    }
   ],
   "source": [
    "siraj= model.predict([test_input])[0].round()"
   ]
  },
  {
   "cell_type": "code",
   "execution_count": 330,
   "id": "b36885a6",
   "metadata": {},
   "outputs": [
    {
     "data": {
      "text/plain": [
       "2.0"
      ]
     },
     "execution_count": 330,
     "metadata": {},
     "output_type": "execute_result"
    }
   ],
   "source": [
    "siraj"
   ]
  },
  {
   "cell_type": "code",
   "execution_count": 331,
   "id": "60ec15b1",
   "metadata": {},
   "outputs": [],
   "source": [
    "#id 26\n",
    "\n",
    "test_input = ['Kuldeep Yadav',10,1,0,0.0042,5,0,0,0,1,1]"
   ]
  },
  {
   "cell_type": "code",
   "execution_count": 332,
   "id": "7fa0d0b6",
   "metadata": {},
   "outputs": [
    {
     "name": "stderr",
     "output_type": "stream",
     "text": [
      "E:\\anaconda\\lib\\site-packages\\sklearn\\base.py:420: UserWarning: X does not have valid feature names, but OneHotEncoder was fitted with feature names\n",
      "  warnings.warn(\n"
     ]
    }
   ],
   "source": [
    "kuldeep= model.predict([test_input])[0].round()"
   ]
  },
  {
   "cell_type": "code",
   "execution_count": 333,
   "id": "bc305848",
   "metadata": {},
   "outputs": [
    {
     "data": {
      "text/plain": [
       "2.0"
      ]
     },
     "execution_count": 333,
     "metadata": {},
     "output_type": "execute_result"
    }
   ],
   "source": [
    "kuldeep"
   ]
  },
  {
   "cell_type": "code",
   "execution_count": 334,
   "id": "deb4319d",
   "metadata": {},
   "outputs": [],
   "source": [
    "#id 27\n",
    "\n",
    "test_input = ['Mohammed Shami',10,0,0,0.0042,1,0,0,0,1,1]"
   ]
  },
  {
   "cell_type": "code",
   "execution_count": 335,
   "id": "1a2fa638",
   "metadata": {},
   "outputs": [
    {
     "name": "stderr",
     "output_type": "stream",
     "text": [
      "E:\\anaconda\\lib\\site-packages\\sklearn\\base.py:420: UserWarning: X does not have valid feature names, but OneHotEncoder was fitted with feature names\n",
      "  warnings.warn(\n"
     ]
    }
   ],
   "source": [
    "shami= model.predict([test_input])[0].round()"
   ]
  },
  {
   "cell_type": "code",
   "execution_count": 336,
   "id": "2975559e",
   "metadata": {},
   "outputs": [
    {
     "data": {
      "text/plain": [
       "-0.0"
      ]
     },
     "execution_count": 336,
     "metadata": {},
     "output_type": "execute_result"
    }
   ],
   "source": [
    "shami"
   ]
  },
  {
   "cell_type": "code",
   "execution_count": 337,
   "id": "5e4b4f47",
   "metadata": {},
   "outputs": [],
   "source": [
    "#id 28\n",
    "\n",
    "test_input = ['Ravichandran Ashwin',10,38.8,90,0.0794,42.8,0,1,1,1,1]"
   ]
  },
  {
   "cell_type": "code",
   "execution_count": 338,
   "id": "3f5c1a62",
   "metadata": {},
   "outputs": [
    {
     "name": "stderr",
     "output_type": "stream",
     "text": [
      "E:\\anaconda\\lib\\site-packages\\sklearn\\base.py:420: UserWarning: X does not have valid feature names, but OneHotEncoder was fitted with feature names\n",
      "  warnings.warn(\n"
     ]
    }
   ],
   "source": [
    "ashwin = model.predict([test_input])[0].round()-15"
   ]
  },
  {
   "cell_type": "code",
   "execution_count": 339,
   "id": "813a2b10",
   "metadata": {},
   "outputs": [
    {
     "data": {
      "text/plain": [
       "18.0"
      ]
     },
     "execution_count": 339,
     "metadata": {},
     "output_type": "execute_result"
    }
   ],
   "source": [
    "ashwin"
   ]
  },
  {
   "cell_type": "code",
   "execution_count": 340,
   "id": "d0c1ec15",
   "metadata": {},
   "outputs": [],
   "source": [
    "#id 29\n",
    "\n",
    "test_input = ['Ishan Kishan',10,38.8,90,0.0794,42.8,0,1,1,1,1]"
   ]
  },
  {
   "cell_type": "code",
   "execution_count": 341,
   "id": "ca56c90c",
   "metadata": {},
   "outputs": [
    {
     "name": "stderr",
     "output_type": "stream",
     "text": [
      "E:\\anaconda\\lib\\site-packages\\sklearn\\base.py:420: UserWarning: X does not have valid feature names, but OneHotEncoder was fitted with feature names\n",
      "  warnings.warn(\n"
     ]
    }
   ],
   "source": [
    "kishan = model.predict([test_input])[0].round()-10"
   ]
  },
  {
   "cell_type": "code",
   "execution_count": 342,
   "id": "3637c361",
   "metadata": {},
   "outputs": [
    {
     "data": {
      "text/plain": [
       "23.0"
      ]
     },
     "execution_count": 342,
     "metadata": {},
     "output_type": "execute_result"
    }
   ],
   "source": [
    "kishan"
   ]
  },
  {
   "cell_type": "code",
   "execution_count": 343,
   "id": "f23fb606",
   "metadata": {},
   "outputs": [],
   "source": [
    "#id 30\n",
    "\n",
    "test_input = ['Suryakumar Yadav',10,38.2,90,0.0794,30,0,1,1,1,1]"
   ]
  },
  {
   "cell_type": "code",
   "execution_count": 344,
   "id": "9a03bd79",
   "metadata": {},
   "outputs": [
    {
     "name": "stderr",
     "output_type": "stream",
     "text": [
      "E:\\anaconda\\lib\\site-packages\\sklearn\\base.py:420: UserWarning: X does not have valid feature names, but OneHotEncoder was fitted with feature names\n",
      "  warnings.warn(\n"
     ]
    }
   ],
   "source": [
    "suryakumar = model.predict([test_input])[0].round()-10"
   ]
  },
  {
   "cell_type": "code",
   "execution_count": 345,
   "id": "cf7d7967",
   "metadata": {},
   "outputs": [
    {
     "data": {
      "text/plain": [
       "25.0"
      ]
     },
     "execution_count": 345,
     "metadata": {},
     "output_type": "execute_result"
    }
   ],
   "source": [
    "suryakumar"
   ]
  },
  {
   "cell_type": "code",
   "execution_count": 396,
   "id": "253f5b72",
   "metadata": {},
   "outputs": [],
   "source": [
    "score = np.array([pat_cummins,steve_smith,alex_carry,josh_inglin,sean_abbote,labuschange,green,hzelwood,head,\n",
    "        m_marsh,maxwell,stoins,warner,zampa,starc,rohit,hardik,gill,koholi,iyyer,rahul,jadeja,thakur,bumrah,siraj,\n",
    "        kuldeep,shami,ashwin,kishan,suryakumar])"
   ]
  },
  {
   "cell_type": "code",
   "execution_count": null,
   "id": "c46ebf8f",
   "metadata": {},
   "outputs": [],
   "source": []
  },
  {
   "cell_type": "code",
   "execution_count": null,
   "id": "3a3db8dc",
   "metadata": {},
   "outputs": [],
   "source": []
  },
  {
   "cell_type": "markdown",
   "id": "c29200fc",
   "metadata": {},
   "source": [
    "# bowling"
   ]
  },
  {
   "cell_type": "code",
   "execution_count": 2,
   "id": "163401fd",
   "metadata": {},
   "outputs": [],
   "source": [
    "model = pickle.load(open('model_best_ball.pkl', 'rb'))"
   ]
  },
  {
   "cell_type": "code",
   "execution_count": 3,
   "id": "6f9fa672",
   "metadata": {},
   "outputs": [],
   "source": [
    "nball = pd.read_csv('updated_nball.csv')"
   ]
  },
  {
   "cell_type": "code",
   "execution_count": 4,
   "id": "acd89030",
   "metadata": {},
   "outputs": [
    {
     "data": {
      "text/plain": [
       "array(['RA Jadeja', 'R Ashwin', 'JR Hazlewood', 'MA Starc', 'PJ Cummins',\n",
       "       'Mohammed Shami', 'SA Abbott', 'MP Stoinis', 'JJ Bumrah',\n",
       "       'A Zampa', 'HH Pandya', 'Kuldeep Yadav', 'SN Thakur',\n",
       "       'Mohammed Siraj', 'ZE Green'], dtype=object)"
      ]
     },
     "execution_count": 4,
     "metadata": {},
     "output_type": "execute_result"
    }
   ],
   "source": [
    "nball['Innings Player'].unique()"
   ]
  },
  {
   "cell_type": "code",
   "execution_count": 49,
   "id": "1b116c71",
   "metadata": {},
   "outputs": [],
   "source": [
    "nbat = pd.read_csv('nbat.csv')"
   ]
  },
  {
   "cell_type": "code",
   "execution_count": 50,
   "id": "484f56dc",
   "metadata": {},
   "outputs": [
    {
     "data": {
      "text/plain": [
       "array(['DA Warner', 'SPD Smith', 'MP Stoinis', 'TM Head', 'M Labuschagne',\n",
       "       'MR Marsh', 'GJ Maxwell', 'AT Carey', 'PJ Cummins', 'A Zampa',\n",
       "       'JR Hazlewood', 'SA Abbott', 'RG Sharma', 'V Kohli', 'KL Rahul',\n",
       "       'SS Iyer', 'RA Jadeja', 'HH Pandya', 'R Ashwin', 'Mohammed Shami',\n",
       "       'SN Thakur', 'Kuldeep Yadav', 'JJ Bumrah', 'Shubman Gill',\n",
       "       'Mohammed Siraj', 'MA Starc'], dtype=object)"
      ]
     },
     "execution_count": 50,
     "metadata": {},
     "output_type": "execute_result"
    }
   ],
   "source": [
    "nbat['Innings Player'].unique()"
   ]
  },
  {
   "cell_type": "code",
   "execution_count": 5,
   "id": "b40571a4",
   "metadata": {},
   "outputs": [
    {
     "data": {
      "text/html": [
       "<div>\n",
       "<style scoped>\n",
       "    .dataframe tbody tr th:only-of-type {\n",
       "        vertical-align: middle;\n",
       "    }\n",
       "\n",
       "    .dataframe tbody tr th {\n",
       "        vertical-align: top;\n",
       "    }\n",
       "\n",
       "    .dataframe thead th {\n",
       "        text-align: right;\n",
       "    }\n",
       "</style>\n",
       "<table border=\"1\" class=\"dataframe\">\n",
       "  <thead>\n",
       "    <tr style=\"text-align: right;\">\n",
       "      <th></th>\n",
       "      <th>Unnamed: 0</th>\n",
       "      <th>Innings Player</th>\n",
       "      <th>Innings Wickets Taken</th>\n",
       "      <th>last_five_matches_wickets</th>\n",
       "      <th>Average over bowled in 5 mts</th>\n",
       "      <th>total maiden over last 5 mts</th>\n",
       "      <th>Average runs conceed in last 5 mts</th>\n",
       "      <th>Average economy last 5 mts</th>\n",
       "      <th>match year 2018 or not</th>\n",
       "      <th>home away</th>\n",
       "      <th>oppo</th>\n",
       "      <th>fast or spin</th>\n",
       "    </tr>\n",
       "  </thead>\n",
       "  <tbody>\n",
       "    <tr>\n",
       "      <th>0</th>\n",
       "      <td>0</td>\n",
       "      <td>RA Jadeja</td>\n",
       "      <td>0</td>\n",
       "      <td>0.0</td>\n",
       "      <td>7.0</td>\n",
       "      <td>0.0</td>\n",
       "      <td>34.0</td>\n",
       "      <td>4.85</td>\n",
       "      <td>0.0</td>\n",
       "      <td>0.0</td>\n",
       "      <td>0.0</td>\n",
       "      <td>0.0</td>\n",
       "    </tr>\n",
       "    <tr>\n",
       "      <th>1</th>\n",
       "      <td>1</td>\n",
       "      <td>RA Jadeja</td>\n",
       "      <td>0</td>\n",
       "      <td>0.0</td>\n",
       "      <td>7.0</td>\n",
       "      <td>0.0</td>\n",
       "      <td>34.0</td>\n",
       "      <td>4.85</td>\n",
       "      <td>0.0</td>\n",
       "      <td>0.0</td>\n",
       "      <td>0.0</td>\n",
       "      <td>0.0</td>\n",
       "    </tr>\n",
       "    <tr>\n",
       "      <th>2</th>\n",
       "      <td>2</td>\n",
       "      <td>RA Jadeja</td>\n",
       "      <td>0</td>\n",
       "      <td>0.0</td>\n",
       "      <td>7.0</td>\n",
       "      <td>0.0</td>\n",
       "      <td>34.0</td>\n",
       "      <td>4.85</td>\n",
       "      <td>0.0</td>\n",
       "      <td>0.0</td>\n",
       "      <td>0.0</td>\n",
       "      <td>0.0</td>\n",
       "    </tr>\n",
       "    <tr>\n",
       "      <th>3</th>\n",
       "      <td>3</td>\n",
       "      <td>RA Jadeja</td>\n",
       "      <td>0</td>\n",
       "      <td>0.0</td>\n",
       "      <td>7.0</td>\n",
       "      <td>1.0</td>\n",
       "      <td>34.0</td>\n",
       "      <td>4.85</td>\n",
       "      <td>0.0</td>\n",
       "      <td>0.0</td>\n",
       "      <td>0.0</td>\n",
       "      <td>0.0</td>\n",
       "    </tr>\n",
       "    <tr>\n",
       "      <th>4</th>\n",
       "      <td>4</td>\n",
       "      <td>RA Jadeja</td>\n",
       "      <td>0</td>\n",
       "      <td>0.0</td>\n",
       "      <td>7.0</td>\n",
       "      <td>2.0</td>\n",
       "      <td>34.0</td>\n",
       "      <td>4.85</td>\n",
       "      <td>0.0</td>\n",
       "      <td>0.0</td>\n",
       "      <td>0.0</td>\n",
       "      <td>0.0</td>\n",
       "    </tr>\n",
       "  </tbody>\n",
       "</table>\n",
       "</div>"
      ],
      "text/plain": [
       "   Unnamed: 0 Innings Player  Innings Wickets Taken  \\\n",
       "0           0      RA Jadeja                      0   \n",
       "1           1      RA Jadeja                      0   \n",
       "2           2      RA Jadeja                      0   \n",
       "3           3      RA Jadeja                      0   \n",
       "4           4      RA Jadeja                      0   \n",
       "\n",
       "   last_five_matches_wickets  Average over bowled in 5 mts  \\\n",
       "0                        0.0                           7.0   \n",
       "1                        0.0                           7.0   \n",
       "2                        0.0                           7.0   \n",
       "3                        0.0                           7.0   \n",
       "4                        0.0                           7.0   \n",
       "\n",
       "   total maiden over last 5 mts  Average runs conceed in last 5 mts  \\\n",
       "0                           0.0                                34.0   \n",
       "1                           0.0                                34.0   \n",
       "2                           0.0                                34.0   \n",
       "3                           1.0                                34.0   \n",
       "4                           2.0                                34.0   \n",
       "\n",
       "   Average economy last 5 mts  match year 2018 or not  home away  oppo  \\\n",
       "0                        4.85                     0.0        0.0   0.0   \n",
       "1                        4.85                     0.0        0.0   0.0   \n",
       "2                        4.85                     0.0        0.0   0.0   \n",
       "3                        4.85                     0.0        0.0   0.0   \n",
       "4                        4.85                     0.0        0.0   0.0   \n",
       "\n",
       "   fast or spin  \n",
       "0           0.0  \n",
       "1           0.0  \n",
       "2           0.0  \n",
       "3           0.0  \n",
       "4           0.0  "
      ]
     },
     "execution_count": 5,
     "metadata": {},
     "output_type": "execute_result"
    }
   ],
   "source": [
    "nball.head()"
   ]
  },
  {
   "cell_type": "code",
   "execution_count": null,
   "id": "c6599d78",
   "metadata": {},
   "outputs": [],
   "source": []
  },
  {
   "cell_type": "code",
   "execution_count": 25,
   "id": "5d04f6e8",
   "metadata": {},
   "outputs": [],
   "source": [
    "#test_input = ['A Zampa',10,9.4,3,331,6.56,1,1,1,0]"
   ]
  },
  {
   "cell_type": "code",
   "execution_count": 26,
   "id": "1902a7a0",
   "metadata": {},
   "outputs": [
    {
     "name": "stderr",
     "output_type": "stream",
     "text": [
      "E:\\anaconda\\lib\\site-packages\\sklearn\\base.py:420: UserWarning: X does not have valid feature names, but OneHotEncoder was fitted with feature names\n",
      "  warnings.warn(\n"
     ]
    },
    {
     "data": {
      "text/plain": [
       "array([2.])"
      ]
     },
     "execution_count": 26,
     "metadata": {},
     "output_type": "execute_result"
    }
   ],
   "source": [
    "model.predict([test_input]).round()"
   ]
  },
  {
   "cell_type": "code",
   "execution_count": 32,
   "id": "240e8d77",
   "metadata": {},
   "outputs": [],
   "source": [
    "#nball.corr(numeric_only=True)['Innings Wickets Taken']"
   ]
  },
  {
   "cell_type": "code",
   "execution_count": 44,
   "id": "f70959ea",
   "metadata": {},
   "outputs": [
    {
     "data": {
      "text/html": [
       "<div>\n",
       "<style scoped>\n",
       "    .dataframe tbody tr th:only-of-type {\n",
       "        vertical-align: middle;\n",
       "    }\n",
       "\n",
       "    .dataframe tbody tr th {\n",
       "        vertical-align: top;\n",
       "    }\n",
       "\n",
       "    .dataframe thead th {\n",
       "        text-align: right;\n",
       "    }\n",
       "</style>\n",
       "<table border=\"1\" class=\"dataframe\">\n",
       "  <thead>\n",
       "    <tr style=\"text-align: right;\">\n",
       "      <th></th>\n",
       "      <th>player_id</th>\n",
       "      <th>player_name</th>\n",
       "    </tr>\n",
       "  </thead>\n",
       "  <tbody>\n",
       "    <tr>\n",
       "      <th>0</th>\n",
       "      <td>1</td>\n",
       "      <td>Pat Cummins</td>\n",
       "    </tr>\n",
       "    <tr>\n",
       "      <th>1</th>\n",
       "      <td>2</td>\n",
       "      <td>Steve Smith</td>\n",
       "    </tr>\n",
       "    <tr>\n",
       "      <th>263</th>\n",
       "      <td>3</td>\n",
       "      <td>Alex Carey</td>\n",
       "    </tr>\n",
       "    <tr>\n",
       "      <th>584</th>\n",
       "      <td>4</td>\n",
       "      <td>Josh Inglis</td>\n",
       "    </tr>\n",
       "    <tr>\n",
       "      <th>604</th>\n",
       "      <td>5</td>\n",
       "      <td>Sean Abbott</td>\n",
       "    </tr>\n",
       "    <tr>\n",
       "      <th>424</th>\n",
       "      <td>6</td>\n",
       "      <td>Marnus Labuschagne</td>\n",
       "    </tr>\n",
       "    <tr>\n",
       "      <th>576</th>\n",
       "      <td>7</td>\n",
       "      <td>Cameron Green</td>\n",
       "    </tr>\n",
       "    <tr>\n",
       "      <th>22</th>\n",
       "      <td>8</td>\n",
       "      <td>Josh Hazlewood</td>\n",
       "    </tr>\n",
       "    <tr>\n",
       "      <th>91</th>\n",
       "      <td>9</td>\n",
       "      <td>Travis Head</td>\n",
       "    </tr>\n",
       "    <tr>\n",
       "      <th>2</th>\n",
       "      <td>10</td>\n",
       "      <td>Mitch Marsh</td>\n",
       "    </tr>\n",
       "    <tr>\n",
       "      <th>17</th>\n",
       "      <td>11</td>\n",
       "      <td>Glenn Maxwell</td>\n",
       "    </tr>\n",
       "    <tr>\n",
       "      <th>82</th>\n",
       "      <td>12</td>\n",
       "      <td>Marcus Stoinis</td>\n",
       "    </tr>\n",
       "    <tr>\n",
       "      <th>3</th>\n",
       "      <td>13</td>\n",
       "      <td>David Warner</td>\n",
       "    </tr>\n",
       "    <tr>\n",
       "      <th>94</th>\n",
       "      <td>14</td>\n",
       "      <td>Adam Zampa</td>\n",
       "    </tr>\n",
       "    <tr>\n",
       "      <th>19</th>\n",
       "      <td>15</td>\n",
       "      <td>Mitchell Starc.</td>\n",
       "    </tr>\n",
       "    <tr>\n",
       "      <th>36</th>\n",
       "      <td>16</td>\n",
       "      <td>Rohit Sharma</td>\n",
       "    </tr>\n",
       "    <tr>\n",
       "      <th>191</th>\n",
       "      <td>17</td>\n",
       "      <td>Hardik Pandya</td>\n",
       "    </tr>\n",
       "    <tr>\n",
       "      <th>622</th>\n",
       "      <td>18</td>\n",
       "      <td>Shubman Gill</td>\n",
       "    </tr>\n",
       "    <tr>\n",
       "      <th>37</th>\n",
       "      <td>19</td>\n",
       "      <td>Virat Kohli</td>\n",
       "    </tr>\n",
       "    <tr>\n",
       "      <th>430</th>\n",
       "      <td>20</td>\n",
       "      <td>Shreyas Iyer</td>\n",
       "    </tr>\n",
       "    <tr>\n",
       "      <th>324</th>\n",
       "      <td>21</td>\n",
       "      <td>KL Rahul</td>\n",
       "    </tr>\n",
       "    <tr>\n",
       "      <th>292</th>\n",
       "      <td>22</td>\n",
       "      <td>Ravindra Jadeja</td>\n",
       "    </tr>\n",
       "    <tr>\n",
       "      <th>433</th>\n",
       "      <td>23</td>\n",
       "      <td>Shardul Thakur</td>\n",
       "    </tr>\n",
       "    <tr>\n",
       "      <th>193</th>\n",
       "      <td>24</td>\n",
       "      <td>Jasprit Bumrah</td>\n",
       "    </tr>\n",
       "    <tr>\n",
       "      <th>648</th>\n",
       "      <td>25</td>\n",
       "      <td>Mohammed Siraj</td>\n",
       "    </tr>\n",
       "    <tr>\n",
       "      <th>194</th>\n",
       "      <td>26</td>\n",
       "      <td>Kuldeep Yadav</td>\n",
       "    </tr>\n",
       "    <tr>\n",
       "      <th>38</th>\n",
       "      <td>27</td>\n",
       "      <td>Mohammed Shami</td>\n",
       "    </tr>\n",
       "    <tr>\n",
       "      <th>39</th>\n",
       "      <td>28</td>\n",
       "      <td>Ravichandran Ashwin</td>\n",
       "    </tr>\n",
       "    <tr>\n",
       "      <th>630</th>\n",
       "      <td>29</td>\n",
       "      <td>Ishan Kishan</td>\n",
       "    </tr>\n",
       "    <tr>\n",
       "      <th>631</th>\n",
       "      <td>30</td>\n",
       "      <td>Suryakumar Yadav</td>\n",
       "    </tr>\n",
       "  </tbody>\n",
       "</table>\n",
       "</div>"
      ],
      "text/plain": [
       "     player_id          player_name\n",
       "0            1          Pat Cummins\n",
       "1            2          Steve Smith\n",
       "263          3           Alex Carey\n",
       "584          4          Josh Inglis\n",
       "604          5          Sean Abbott\n",
       "424          6   Marnus Labuschagne\n",
       "576          7        Cameron Green\n",
       "22           8       Josh Hazlewood\n",
       "91           9          Travis Head\n",
       "2           10          Mitch Marsh\n",
       "17          11        Glenn Maxwell\n",
       "82          12       Marcus Stoinis\n",
       "3           13         David Warner\n",
       "94          14           Adam Zampa\n",
       "19          15      Mitchell Starc.\n",
       "36          16         Rohit Sharma\n",
       "191         17        Hardik Pandya\n",
       "622         18         Shubman Gill\n",
       "37          19          Virat Kohli\n",
       "430         20         Shreyas Iyer\n",
       "324         21             KL Rahul\n",
       "292         22      Ravindra Jadeja\n",
       "433         23       Shardul Thakur\n",
       "193         24       Jasprit Bumrah\n",
       "648         25       Mohammed Siraj\n",
       "194         26        Kuldeep Yadav\n",
       "38          27       Mohammed Shami\n",
       "39          28  Ravichandran Ashwin\n",
       "630         29         Ishan Kishan\n",
       "631         30     Suryakumar Yadav"
      ]
     },
     "execution_count": 44,
     "metadata": {},
     "output_type": "execute_result"
    }
   ],
   "source": [
    "data"
   ]
  },
  {
   "cell_type": "code",
   "execution_count": 46,
   "id": "94d6c12a",
   "metadata": {},
   "outputs": [],
   "source": [
    "#id 1\n",
    "test_input= ['PJ Cummins',9,8,3,42.5,5.12,1,1,1,0]"
   ]
  },
  {
   "cell_type": "code",
   "execution_count": 47,
   "id": "2797866a",
   "metadata": {},
   "outputs": [
    {
     "name": "stderr",
     "output_type": "stream",
     "text": [
      "E:\\anaconda\\lib\\site-packages\\sklearn\\base.py:420: UserWarning: X does not have valid feature names, but OneHotEncoder was fitted with feature names\n",
      "  warnings.warn(\n"
     ]
    }
   ],
   "source": [
    "cummins_b = model.predict([test_input]).round()"
   ]
  },
  {
   "cell_type": "code",
   "execution_count": 48,
   "id": "cc1e5a97",
   "metadata": {},
   "outputs": [
    {
     "data": {
      "text/plain": [
       "array([2.])"
      ]
     },
     "execution_count": 48,
     "metadata": {},
     "output_type": "execute_result"
    }
   ],
   "source": [
    "cummins_b"
   ]
  },
  {
   "cell_type": "code",
   "execution_count": 51,
   "id": "b8b9d626",
   "metadata": {},
   "outputs": [],
   "source": [
    "#id2\n",
    "test_input= ['SPD Smith',0,0,0,0,0,1,1,1,0]"
   ]
  },
  {
   "cell_type": "code",
   "execution_count": 54,
   "id": "ecd37d9f",
   "metadata": {},
   "outputs": [
    {
     "name": "stderr",
     "output_type": "stream",
     "text": [
      "E:\\anaconda\\lib\\site-packages\\sklearn\\base.py:420: UserWarning: X does not have valid feature names, but OneHotEncoder was fitted with feature names\n",
      "  warnings.warn(\n"
     ]
    }
   ],
   "source": [
    "smith_b = model.predict([test_input]).round()"
   ]
  },
  {
   "cell_type": "code",
   "execution_count": 55,
   "id": "0bd622f7",
   "metadata": {},
   "outputs": [
    {
     "data": {
      "text/plain": [
       "array([0.])"
      ]
     },
     "execution_count": 55,
     "metadata": {},
     "output_type": "execute_result"
    }
   ],
   "source": [
    "smith_b"
   ]
  },
  {
   "cell_type": "code",
   "execution_count": 56,
   "id": "f1e0d5cd",
   "metadata": {},
   "outputs": [],
   "source": [
    "#id 3\n",
    "\n",
    "test_input= ['Alex Carey',0,0,0,0,0,1,1,1,0]"
   ]
  },
  {
   "cell_type": "code",
   "execution_count": 57,
   "id": "25000280",
   "metadata": {},
   "outputs": [
    {
     "name": "stderr",
     "output_type": "stream",
     "text": [
      "E:\\anaconda\\lib\\site-packages\\sklearn\\base.py:420: UserWarning: X does not have valid feature names, but OneHotEncoder was fitted with feature names\n",
      "  warnings.warn(\n"
     ]
    }
   ],
   "source": [
    "carry_b = model.predict([test_input]).round()"
   ]
  },
  {
   "cell_type": "code",
   "execution_count": 58,
   "id": "310eda1e",
   "metadata": {},
   "outputs": [
    {
     "data": {
      "text/plain": [
       "array([0.])"
      ]
     },
     "execution_count": 58,
     "metadata": {},
     "output_type": "execute_result"
    }
   ],
   "source": [
    "carry_b"
   ]
  },
  {
   "cell_type": "code",
   "execution_count": 60,
   "id": "93139963",
   "metadata": {},
   "outputs": [],
   "source": [
    "#id 4\n",
    "\n",
    "test_input= ['Josh Inglis',0,0,0,0,0,1,1,1,0]"
   ]
  },
  {
   "cell_type": "code",
   "execution_count": 61,
   "id": "495746da",
   "metadata": {},
   "outputs": [
    {
     "name": "stderr",
     "output_type": "stream",
     "text": [
      "E:\\anaconda\\lib\\site-packages\\sklearn\\base.py:420: UserWarning: X does not have valid feature names, but OneHotEncoder was fitted with feature names\n",
      "  warnings.warn(\n"
     ]
    }
   ],
   "source": [
    "inglis_b = model.predict([test_input]).round()"
   ]
  },
  {
   "cell_type": "code",
   "execution_count": 62,
   "id": "522ae7cf",
   "metadata": {},
   "outputs": [
    {
     "data": {
      "text/plain": [
       "array([0.])"
      ]
     },
     "execution_count": 62,
     "metadata": {},
     "output_type": "execute_result"
    }
   ],
   "source": [
    "inglis_b"
   ]
  },
  {
   "cell_type": "code",
   "execution_count": 70,
   "id": "8ca43b98",
   "metadata": {},
   "outputs": [],
   "source": [
    "#id 5\n",
    "\n",
    "test_input= ['SA Abbott',1,40,2,70,8,1,1,1,1]"
   ]
  },
  {
   "cell_type": "code",
   "execution_count": 71,
   "id": "0884093b",
   "metadata": {},
   "outputs": [
    {
     "name": "stderr",
     "output_type": "stream",
     "text": [
      "E:\\anaconda\\lib\\site-packages\\sklearn\\base.py:420: UserWarning: X does not have valid feature names, but OneHotEncoder was fitted with feature names\n",
      "  warnings.warn(\n"
     ]
    }
   ],
   "source": [
    "abbott_b = model.predict([test_input]).round()"
   ]
  },
  {
   "cell_type": "code",
   "execution_count": 72,
   "id": "6726361d",
   "metadata": {},
   "outputs": [
    {
     "data": {
      "text/plain": [
       "array([2.])"
      ]
     },
     "execution_count": 72,
     "metadata": {},
     "output_type": "execute_result"
    }
   ],
   "source": [
    "abbott_b"
   ]
  },
  {
   "cell_type": "code",
   "execution_count": 73,
   "id": "98244859",
   "metadata": {},
   "outputs": [],
   "source": [
    "#id6\n",
    "\n",
    "test_input= ['Marnus Labuschagne',0,0,2,0,8,1,1,1,1]"
   ]
  },
  {
   "cell_type": "code",
   "execution_count": 76,
   "id": "7d109963",
   "metadata": {},
   "outputs": [
    {
     "name": "stderr",
     "output_type": "stream",
     "text": [
      "E:\\anaconda\\lib\\site-packages\\sklearn\\base.py:420: UserWarning: X does not have valid feature names, but OneHotEncoder was fitted with feature names\n",
      "  warnings.warn(\n"
     ]
    }
   ],
   "source": [
    "labuchegn_b = model.predict([test_input]).round()+1"
   ]
  },
  {
   "cell_type": "code",
   "execution_count": 77,
   "id": "cdf176f5",
   "metadata": {},
   "outputs": [
    {
     "data": {
      "text/plain": [
       "array([0.])"
      ]
     },
     "execution_count": 77,
     "metadata": {},
     "output_type": "execute_result"
    }
   ],
   "source": [
    "labuchegn_b"
   ]
  },
  {
   "cell_type": "code",
   "execution_count": 79,
   "id": "8a043bc9",
   "metadata": {},
   "outputs": [],
   "source": [
    "#id7\n",
    "\n",
    "test_input= ['ZE Green',0,0,2,0,8,1,1,1,1]"
   ]
  },
  {
   "cell_type": "code",
   "execution_count": 84,
   "id": "c415ee26",
   "metadata": {},
   "outputs": [
    {
     "name": "stderr",
     "output_type": "stream",
     "text": [
      "E:\\anaconda\\lib\\site-packages\\sklearn\\base.py:420: UserWarning: X does not have valid feature names, but OneHotEncoder was fitted with feature names\n",
      "  warnings.warn(\n"
     ]
    }
   ],
   "source": [
    "green_b = model.predict([test_input]).round()+1"
   ]
  },
  {
   "cell_type": "code",
   "execution_count": 85,
   "id": "fdfd4d66",
   "metadata": {},
   "outputs": [
    {
     "data": {
      "text/plain": [
       "array([0.])"
      ]
     },
     "execution_count": 85,
     "metadata": {},
     "output_type": "execute_result"
    }
   ],
   "source": [
    "green_b"
   ]
  },
  {
   "cell_type": "code",
   "execution_count": 125,
   "id": "23dbe2a9",
   "metadata": {},
   "outputs": [],
   "source": [
    "#id8\n",
    "\n",
    "test_input= ['JR Hazlewood',8,9,2,60,6,1,1,1,1]"
   ]
  },
  {
   "cell_type": "code",
   "execution_count": 126,
   "id": "c676d04a",
   "metadata": {},
   "outputs": [
    {
     "name": "stderr",
     "output_type": "stream",
     "text": [
      "E:\\anaconda\\lib\\site-packages\\sklearn\\base.py:420: UserWarning: X does not have valid feature names, but OneHotEncoder was fitted with feature names\n",
      "  warnings.warn(\n"
     ]
    }
   ],
   "source": [
    "hzelwood_b = model.predict([test_input]).round()"
   ]
  },
  {
   "cell_type": "code",
   "execution_count": 127,
   "id": "54a5ebf0",
   "metadata": {},
   "outputs": [
    {
     "data": {
      "text/plain": [
       "array([2.])"
      ]
     },
     "execution_count": 127,
     "metadata": {},
     "output_type": "execute_result"
    }
   ],
   "source": [
    "hzelwood_b"
   ]
  },
  {
   "cell_type": "code",
   "execution_count": 92,
   "id": "58b2e6ce",
   "metadata": {},
   "outputs": [],
   "source": [
    "#id 9\n",
    "\n",
    "test_input= ['Travis Head',0,0,0,60,6,1,1,1,1]"
   ]
  },
  {
   "cell_type": "code",
   "execution_count": 97,
   "id": "e4d78dbb",
   "metadata": {},
   "outputs": [
    {
     "name": "stderr",
     "output_type": "stream",
     "text": [
      "E:\\anaconda\\lib\\site-packages\\sklearn\\base.py:420: UserWarning: X does not have valid feature names, but OneHotEncoder was fitted with feature names\n",
      "  warnings.warn(\n"
     ]
    }
   ],
   "source": [
    "head_b = model.predict([test_input]).round()*-1"
   ]
  },
  {
   "cell_type": "code",
   "execution_count": 98,
   "id": "88026b48",
   "metadata": {},
   "outputs": [
    {
     "data": {
      "text/plain": [
       "array([-0.])"
      ]
     },
     "execution_count": 98,
     "metadata": {},
     "output_type": "execute_result"
    }
   ],
   "source": [
    "head_b"
   ]
  },
  {
   "cell_type": "code",
   "execution_count": 99,
   "id": "51246dff",
   "metadata": {},
   "outputs": [],
   "source": [
    "#id 10\n",
    "\n",
    "test_input= ['Mitch Marsh',0,0,0,60,6,1,1,1,1]"
   ]
  },
  {
   "cell_type": "code",
   "execution_count": 121,
   "id": "867bb4b1",
   "metadata": {},
   "outputs": [
    {
     "name": "stderr",
     "output_type": "stream",
     "text": [
      "E:\\anaconda\\lib\\site-packages\\sklearn\\base.py:420: UserWarning: X does not have valid feature names, but OneHotEncoder was fitted with feature names\n",
      "  warnings.warn(\n"
     ]
    }
   ],
   "source": [
    "marsh_b = model.predict([test_input]).round()*-1"
   ]
  },
  {
   "cell_type": "code",
   "execution_count": 122,
   "id": "2d3c2689",
   "metadata": {},
   "outputs": [
    {
     "data": {
      "text/plain": [
       "array([0.])"
      ]
     },
     "execution_count": 122,
     "metadata": {},
     "output_type": "execute_result"
    }
   ],
   "source": [
    "marsh_b"
   ]
  },
  {
   "cell_type": "code",
   "execution_count": 114,
   "id": "72379cc7",
   "metadata": {},
   "outputs": [],
   "source": [
    "#id 11\n",
    "test_input= ['Glenn Maxwell',0,0,0,60,6,1,1,1,1]"
   ]
  },
  {
   "cell_type": "code",
   "execution_count": 119,
   "id": "5f2820c0",
   "metadata": {},
   "outputs": [
    {
     "name": "stderr",
     "output_type": "stream",
     "text": [
      "E:\\anaconda\\lib\\site-packages\\sklearn\\base.py:420: UserWarning: X does not have valid feature names, but OneHotEncoder was fitted with feature names\n",
      "  warnings.warn(\n"
     ]
    }
   ],
   "source": [
    "maxwell_b = model.predict([test_input]).round()*-1"
   ]
  },
  {
   "cell_type": "code",
   "execution_count": 120,
   "id": "3bb0df7a",
   "metadata": {},
   "outputs": [
    {
     "data": {
      "text/plain": [
       "array([0.])"
      ]
     },
     "execution_count": 120,
     "metadata": {},
     "output_type": "execute_result"
    }
   ],
   "source": [
    "maxwell_b"
   ]
  },
  {
   "cell_type": "code",
   "execution_count": 134,
   "id": "06ba43b3",
   "metadata": {},
   "outputs": [],
   "source": [
    "#id 12\n",
    "\n",
    "test_input= ['MP Stoinis',1,0,0,5,44,5,5,1,1]"
   ]
  },
  {
   "cell_type": "code",
   "execution_count": 143,
   "id": "0b449f20",
   "metadata": {},
   "outputs": [
    {
     "name": "stderr",
     "output_type": "stream",
     "text": [
      "E:\\anaconda\\lib\\site-packages\\sklearn\\base.py:420: UserWarning: X does not have valid feature names, but OneHotEncoder was fitted with feature names\n",
      "  warnings.warn(\n"
     ]
    }
   ],
   "source": [
    "stoins_b = model.predict([test_input]).round()+4"
   ]
  },
  {
   "cell_type": "code",
   "execution_count": 144,
   "id": "82574dd2",
   "metadata": {},
   "outputs": [
    {
     "data": {
      "text/plain": [
       "array([0.])"
      ]
     },
     "execution_count": 144,
     "metadata": {},
     "output_type": "execute_result"
    }
   ],
   "source": [
    "stoins_b"
   ]
  },
  {
   "cell_type": "code",
   "execution_count": 151,
   "id": "ba87f3b8",
   "metadata": {},
   "outputs": [],
   "source": [
    "#id 13\n",
    "\n",
    "test_input= ['David Warner',0,0,0,5,40,5,5,1,1]"
   ]
  },
  {
   "cell_type": "code",
   "execution_count": 152,
   "id": "b3ec98c1",
   "metadata": {},
   "outputs": [
    {
     "name": "stderr",
     "output_type": "stream",
     "text": [
      "E:\\anaconda\\lib\\site-packages\\sklearn\\base.py:420: UserWarning: X does not have valid feature names, but OneHotEncoder was fitted with feature names\n",
      "  warnings.warn(\n"
     ]
    }
   ],
   "source": [
    "warner_b = model.predict([test_input]).round()+4"
   ]
  },
  {
   "cell_type": "code",
   "execution_count": 153,
   "id": "31e9ca26",
   "metadata": {},
   "outputs": [
    {
     "data": {
      "text/plain": [
       "array([0.])"
      ]
     },
     "execution_count": 153,
     "metadata": {},
     "output_type": "execute_result"
    }
   ],
   "source": [
    "warner_b"
   ]
  },
  {
   "cell_type": "code",
   "execution_count": 162,
   "id": "9773dff8",
   "metadata": {},
   "outputs": [],
   "source": [
    "#id 14\n",
    "\n",
    "test_input= ['A Zampa',5,9,2,60,6,1,1,1,0]"
   ]
  },
  {
   "cell_type": "code",
   "execution_count": 163,
   "id": "c9f76a8a",
   "metadata": {},
   "outputs": [
    {
     "name": "stderr",
     "output_type": "stream",
     "text": [
      "E:\\anaconda\\lib\\site-packages\\sklearn\\base.py:420: UserWarning: X does not have valid feature names, but OneHotEncoder was fitted with feature names\n",
      "  warnings.warn(\n"
     ]
    }
   ],
   "source": [
    "zampa_b = model.predict([test_input]).round()"
   ]
  },
  {
   "cell_type": "code",
   "execution_count": 164,
   "id": "c0a28399",
   "metadata": {},
   "outputs": [
    {
     "data": {
      "text/plain": [
       "array([1.])"
      ]
     },
     "execution_count": 164,
     "metadata": {},
     "output_type": "execute_result"
    }
   ],
   "source": [
    "zampa_b"
   ]
  },
  {
   "cell_type": "code",
   "execution_count": 165,
   "id": "3aa4bbd4",
   "metadata": {},
   "outputs": [],
   "source": [
    "#id15\n",
    "\n",
    "test_input= ['MA Starc',8,9,2,60,6,1,1,1,0]"
   ]
  },
  {
   "cell_type": "code",
   "execution_count": 166,
   "id": "de4a5bfb",
   "metadata": {},
   "outputs": [
    {
     "name": "stderr",
     "output_type": "stream",
     "text": [
      "E:\\anaconda\\lib\\site-packages\\sklearn\\base.py:420: UserWarning: X does not have valid feature names, but OneHotEncoder was fitted with feature names\n",
      "  warnings.warn(\n"
     ]
    }
   ],
   "source": [
    "starc_b = model.predict([test_input]).round()"
   ]
  },
  {
   "cell_type": "code",
   "execution_count": 167,
   "id": "6d6f3fba",
   "metadata": {},
   "outputs": [
    {
     "data": {
      "text/plain": [
       "array([2.])"
      ]
     },
     "execution_count": 167,
     "metadata": {},
     "output_type": "execute_result"
    }
   ],
   "source": [
    "starc_b"
   ]
  },
  {
   "cell_type": "code",
   "execution_count": 168,
   "id": "f53389ae",
   "metadata": {},
   "outputs": [],
   "source": [
    "#id 16\n",
    "test_input= ['Rohit Sharma',0,0,0,0,0,1,1,1,0]"
   ]
  },
  {
   "cell_type": "code",
   "execution_count": 169,
   "id": "4b3b4e2d",
   "metadata": {},
   "outputs": [
    {
     "name": "stderr",
     "output_type": "stream",
     "text": [
      "E:\\anaconda\\lib\\site-packages\\sklearn\\base.py:420: UserWarning: X does not have valid feature names, but OneHotEncoder was fitted with feature names\n",
      "  warnings.warn(\n"
     ]
    }
   ],
   "source": [
    "rohit_b = model.predict([test_input]).round()"
   ]
  },
  {
   "cell_type": "code",
   "execution_count": 170,
   "id": "322a645e",
   "metadata": {},
   "outputs": [
    {
     "data": {
      "text/plain": [
       "array([0.])"
      ]
     },
     "execution_count": 170,
     "metadata": {},
     "output_type": "execute_result"
    }
   ],
   "source": [
    "rohit_b"
   ]
  },
  {
   "cell_type": "code",
   "execution_count": 175,
   "id": "c79d26b4",
   "metadata": {},
   "outputs": [],
   "source": [
    "#id 17\n",
    "\n",
    "test_input= ['Hardik Pandya',2,6,2,0,0,1,1,1,1]"
   ]
  },
  {
   "cell_type": "code",
   "execution_count": 176,
   "id": "9a98be7a",
   "metadata": {},
   "outputs": [
    {
     "name": "stderr",
     "output_type": "stream",
     "text": [
      "E:\\anaconda\\lib\\site-packages\\sklearn\\base.py:420: UserWarning: X does not have valid feature names, but OneHotEncoder was fitted with feature names\n",
      "  warnings.warn(\n"
     ]
    }
   ],
   "source": [
    "hardik_b = model.predict([test_input]).round()"
   ]
  },
  {
   "cell_type": "code",
   "execution_count": 177,
   "id": "b5793426",
   "metadata": {},
   "outputs": [
    {
     "data": {
      "text/plain": [
       "array([1.])"
      ]
     },
     "execution_count": 177,
     "metadata": {},
     "output_type": "execute_result"
    }
   ],
   "source": [
    "hardik_b"
   ]
  },
  {
   "cell_type": "code",
   "execution_count": 178,
   "id": "ca1c7ebc",
   "metadata": {},
   "outputs": [],
   "source": [
    "#id 18\n",
    "\n",
    "test_input= ['Shubman Gill',0,0,0,0,0,1,1,1,0]"
   ]
  },
  {
   "cell_type": "code",
   "execution_count": 179,
   "id": "cc39d17c",
   "metadata": {},
   "outputs": [
    {
     "name": "stderr",
     "output_type": "stream",
     "text": [
      "E:\\anaconda\\lib\\site-packages\\sklearn\\base.py:420: UserWarning: X does not have valid feature names, but OneHotEncoder was fitted with feature names\n",
      "  warnings.warn(\n"
     ]
    }
   ],
   "source": [
    "shuban_b = model.predict([test_input]).round()"
   ]
  },
  {
   "cell_type": "code",
   "execution_count": 181,
   "id": "b5ba308d",
   "metadata": {},
   "outputs": [
    {
     "data": {
      "text/plain": [
       "array([0.])"
      ]
     },
     "execution_count": 181,
     "metadata": {},
     "output_type": "execute_result"
    }
   ],
   "source": [
    "shuban_b"
   ]
  },
  {
   "cell_type": "code",
   "execution_count": 182,
   "id": "d9438976",
   "metadata": {},
   "outputs": [],
   "source": [
    "#id 19\n",
    "\n",
    "test_input= ['Virat Kohli',0,0,0,0,0,1,1,1,0]"
   ]
  },
  {
   "cell_type": "code",
   "execution_count": 183,
   "id": "47f80b95",
   "metadata": {},
   "outputs": [
    {
     "name": "stderr",
     "output_type": "stream",
     "text": [
      "E:\\anaconda\\lib\\site-packages\\sklearn\\base.py:420: UserWarning: X does not have valid feature names, but OneHotEncoder was fitted with feature names\n",
      "  warnings.warn(\n"
     ]
    }
   ],
   "source": [
    "virat_b = model.predict([test_input]).round()"
   ]
  },
  {
   "cell_type": "code",
   "execution_count": 184,
   "id": "b8c30a4c",
   "metadata": {},
   "outputs": [
    {
     "data": {
      "text/plain": [
       "array([0.])"
      ]
     },
     "execution_count": 184,
     "metadata": {},
     "output_type": "execute_result"
    }
   ],
   "source": [
    "virat_b"
   ]
  },
  {
   "cell_type": "code",
   "execution_count": 185,
   "id": "df1dd32f",
   "metadata": {},
   "outputs": [],
   "source": [
    "#20\n",
    "\n",
    "test_input= ['Shreyas Iyer',0,0,0,0,0,1,1,1,0]"
   ]
  },
  {
   "cell_type": "code",
   "execution_count": 186,
   "id": "5dc06be2",
   "metadata": {},
   "outputs": [
    {
     "name": "stderr",
     "output_type": "stream",
     "text": [
      "E:\\anaconda\\lib\\site-packages\\sklearn\\base.py:420: UserWarning: X does not have valid feature names, but OneHotEncoder was fitted with feature names\n",
      "  warnings.warn(\n"
     ]
    }
   ],
   "source": [
    "iyyer_b = model.predict([test_input]).round()"
   ]
  },
  {
   "cell_type": "code",
   "execution_count": 187,
   "id": "e56e820b",
   "metadata": {},
   "outputs": [
    {
     "data": {
      "text/plain": [
       "array([0.])"
      ]
     },
     "execution_count": 187,
     "metadata": {},
     "output_type": "execute_result"
    }
   ],
   "source": [
    "iyyer_b"
   ]
  },
  {
   "cell_type": "code",
   "execution_count": 188,
   "id": "93097c3a",
   "metadata": {},
   "outputs": [],
   "source": [
    "#id21\n",
    "\n",
    "test_input= ['KL Rahul',0,0,0,0,0,1,1,1,0]"
   ]
  },
  {
   "cell_type": "code",
   "execution_count": 189,
   "id": "c61ecded",
   "metadata": {},
   "outputs": [
    {
     "name": "stderr",
     "output_type": "stream",
     "text": [
      "E:\\anaconda\\lib\\site-packages\\sklearn\\base.py:420: UserWarning: X does not have valid feature names, but OneHotEncoder was fitted with feature names\n",
      "  warnings.warn(\n"
     ]
    }
   ],
   "source": [
    "rahul_b = model.predict([test_input]).round()"
   ]
  },
  {
   "cell_type": "code",
   "execution_count": 190,
   "id": "e3de40cd",
   "metadata": {},
   "outputs": [
    {
     "data": {
      "text/plain": [
       "array([0.])"
      ]
     },
     "execution_count": 190,
     "metadata": {},
     "output_type": "execute_result"
    }
   ],
   "source": [
    "rahul_b"
   ]
  },
  {
   "cell_type": "code",
   "execution_count": 191,
   "id": "1d306b59",
   "metadata": {},
   "outputs": [],
   "source": [
    "#id22\n",
    "\n",
    "test_input= ['Ravindra Jadeja',8,9,2,60,6,1,1,1,0]"
   ]
  },
  {
   "cell_type": "code",
   "execution_count": 193,
   "id": "81308a84",
   "metadata": {},
   "outputs": [
    {
     "name": "stderr",
     "output_type": "stream",
     "text": [
      "E:\\anaconda\\lib\\site-packages\\sklearn\\base.py:420: UserWarning: X does not have valid feature names, but OneHotEncoder was fitted with feature names\n",
      "  warnings.warn(\n"
     ]
    }
   ],
   "source": [
    "jadeja_b = model.predict([test_input]).round()"
   ]
  },
  {
   "cell_type": "code",
   "execution_count": 194,
   "id": "95f68699",
   "metadata": {},
   "outputs": [
    {
     "data": {
      "text/plain": [
       "array([2.])"
      ]
     },
     "execution_count": 194,
     "metadata": {},
     "output_type": "execute_result"
    }
   ],
   "source": [
    "jadeja_b"
   ]
  },
  {
   "cell_type": "code",
   "execution_count": 195,
   "id": "11a384cb",
   "metadata": {},
   "outputs": [],
   "source": [
    "#id23\n",
    "\n",
    "test_input= ['Shardul Thakur',5,9,2,60,6,1,1,1,0]"
   ]
  },
  {
   "cell_type": "code",
   "execution_count": 196,
   "id": "a5842593",
   "metadata": {},
   "outputs": [
    {
     "name": "stderr",
     "output_type": "stream",
     "text": [
      "E:\\anaconda\\lib\\site-packages\\sklearn\\base.py:420: UserWarning: X does not have valid feature names, but OneHotEncoder was fitted with feature names\n",
      "  warnings.warn(\n"
     ]
    }
   ],
   "source": [
    "thakur_b = model.predict([test_input]).round()"
   ]
  },
  {
   "cell_type": "code",
   "execution_count": 197,
   "id": "6df36f4b",
   "metadata": {},
   "outputs": [
    {
     "data": {
      "text/plain": [
       "array([1.])"
      ]
     },
     "execution_count": 197,
     "metadata": {},
     "output_type": "execute_result"
    }
   ],
   "source": [
    "thakur_b"
   ]
  },
  {
   "cell_type": "code",
   "execution_count": 207,
   "id": "b9a76cca",
   "metadata": {},
   "outputs": [],
   "source": [
    "#id24\n",
    "test_input= ['Jasprit Bumrah',8,9,2,60,6,1,1,1,0]"
   ]
  },
  {
   "cell_type": "code",
   "execution_count": 208,
   "id": "7ec6bb69",
   "metadata": {},
   "outputs": [
    {
     "name": "stderr",
     "output_type": "stream",
     "text": [
      "E:\\anaconda\\lib\\site-packages\\sklearn\\base.py:420: UserWarning: X does not have valid feature names, but OneHotEncoder was fitted with feature names\n",
      "  warnings.warn(\n"
     ]
    }
   ],
   "source": [
    "bumrah_b = model.predict([test_input]).round()"
   ]
  },
  {
   "cell_type": "code",
   "execution_count": 209,
   "id": "e165dae5",
   "metadata": {},
   "outputs": [
    {
     "data": {
      "text/plain": [
       "array([2.])"
      ]
     },
     "execution_count": 209,
     "metadata": {},
     "output_type": "execute_result"
    }
   ],
   "source": [
    "bumrah_b"
   ]
  },
  {
   "cell_type": "code",
   "execution_count": 222,
   "id": "aa13481d",
   "metadata": {},
   "outputs": [],
   "source": [
    "#id25\n",
    "\n",
    "test_input= ['Mohammed Siraj',20,9,2,60,6,1,1,1,0]"
   ]
  },
  {
   "cell_type": "code",
   "execution_count": 223,
   "id": "72d92553",
   "metadata": {},
   "outputs": [
    {
     "name": "stderr",
     "output_type": "stream",
     "text": [
      "E:\\anaconda\\lib\\site-packages\\sklearn\\base.py:420: UserWarning: X does not have valid feature names, but OneHotEncoder was fitted with feature names\n",
      "  warnings.warn(\n"
     ]
    }
   ],
   "source": [
    "siraj_b = model.predict([test_input]).round()"
   ]
  },
  {
   "cell_type": "code",
   "execution_count": 224,
   "id": "7dc6a85e",
   "metadata": {},
   "outputs": [
    {
     "data": {
      "text/plain": [
       "array([3.])"
      ]
     },
     "execution_count": 224,
     "metadata": {},
     "output_type": "execute_result"
    }
   ],
   "source": [
    "siraj_b"
   ]
  },
  {
   "cell_type": "code",
   "execution_count": 226,
   "id": "da0729fd",
   "metadata": {},
   "outputs": [],
   "source": [
    "#id26\n",
    "test_input= ['Kuldeep Yadav',2,9,2,60,6,1,1,1,0]"
   ]
  },
  {
   "cell_type": "code",
   "execution_count": 230,
   "id": "f6a4b6ef",
   "metadata": {},
   "outputs": [
    {
     "name": "stderr",
     "output_type": "stream",
     "text": [
      "E:\\anaconda\\lib\\site-packages\\sklearn\\base.py:420: UserWarning: X does not have valid feature names, but OneHotEncoder was fitted with feature names\n",
      "  warnings.warn(\n"
     ]
    }
   ],
   "source": [
    "kuldeep_b = model.predict([test_input]).round()-1"
   ]
  },
  {
   "cell_type": "code",
   "execution_count": 231,
   "id": "2882fa5a",
   "metadata": {},
   "outputs": [
    {
     "data": {
      "text/plain": [
       "array([0.])"
      ]
     },
     "execution_count": 231,
     "metadata": {},
     "output_type": "execute_result"
    }
   ],
   "source": [
    "kuldeep_b"
   ]
  },
  {
   "cell_type": "code",
   "execution_count": 232,
   "id": "521714d3",
   "metadata": {},
   "outputs": [],
   "source": [
    "#id27\n",
    "\n",
    "test_input= ['SMohammed Shami',5,9,2,60,6,1,1,1,0]"
   ]
  },
  {
   "cell_type": "code",
   "execution_count": 237,
   "id": "9f4bf1d5",
   "metadata": {},
   "outputs": [
    {
     "name": "stderr",
     "output_type": "stream",
     "text": [
      "E:\\anaconda\\lib\\site-packages\\sklearn\\base.py:420: UserWarning: X does not have valid feature names, but OneHotEncoder was fitted with feature names\n",
      "  warnings.warn(\n"
     ]
    }
   ],
   "source": [
    "shami_b = model.predict([test_input]).round()"
   ]
  },
  {
   "cell_type": "code",
   "execution_count": 238,
   "id": "f25fb8fd",
   "metadata": {},
   "outputs": [
    {
     "data": {
      "text/plain": [
       "array([1.])"
      ]
     },
     "execution_count": 238,
     "metadata": {},
     "output_type": "execute_result"
    }
   ],
   "source": [
    "shami_b"
   ]
  },
  {
   "cell_type": "code",
   "execution_count": 244,
   "id": "6b24685d",
   "metadata": {},
   "outputs": [],
   "source": [
    "#id28\n",
    "\n",
    "test_input= ['Ravichandran Ashwin',5,9,2,60,6,1,1,1,0]"
   ]
  },
  {
   "cell_type": "code",
   "execution_count": 245,
   "id": "bc7754c4",
   "metadata": {},
   "outputs": [
    {
     "name": "stderr",
     "output_type": "stream",
     "text": [
      "E:\\anaconda\\lib\\site-packages\\sklearn\\base.py:420: UserWarning: X does not have valid feature names, but OneHotEncoder was fitted with feature names\n",
      "  warnings.warn(\n"
     ]
    }
   ],
   "source": [
    "aswhin_b = model.predict([test_input]).round()"
   ]
  },
  {
   "cell_type": "code",
   "execution_count": 246,
   "id": "f8eafd42",
   "metadata": {},
   "outputs": [
    {
     "data": {
      "text/plain": [
       "array([1.])"
      ]
     },
     "execution_count": 246,
     "metadata": {},
     "output_type": "execute_result"
    }
   ],
   "source": [
    "aswhin_b"
   ]
  },
  {
   "cell_type": "code",
   "execution_count": 247,
   "id": "72796d7f",
   "metadata": {},
   "outputs": [],
   "source": [
    "#id29\n",
    "\n",
    "test_input= ['Ishan Kishan',0,0,0,0,0,1,1,1,0]"
   ]
  },
  {
   "cell_type": "code",
   "execution_count": 248,
   "id": "6318088a",
   "metadata": {},
   "outputs": [
    {
     "name": "stderr",
     "output_type": "stream",
     "text": [
      "E:\\anaconda\\lib\\site-packages\\sklearn\\base.py:420: UserWarning: X does not have valid feature names, but OneHotEncoder was fitted with feature names\n",
      "  warnings.warn(\n"
     ]
    }
   ],
   "source": [
    "kishan_b = model.predict([test_input]).round()"
   ]
  },
  {
   "cell_type": "code",
   "execution_count": 250,
   "id": "8894539a",
   "metadata": {},
   "outputs": [
    {
     "data": {
      "text/plain": [
       "array([0.])"
      ]
     },
     "execution_count": 250,
     "metadata": {},
     "output_type": "execute_result"
    }
   ],
   "source": [
    "kishan_b"
   ]
  },
  {
   "cell_type": "code",
   "execution_count": 251,
   "id": "2cf30d68",
   "metadata": {},
   "outputs": [],
   "source": [
    "#id30\n",
    "\n",
    "test_input= ['suryakumar yadav',0,0,0,0,0,1,1,1,0]"
   ]
  },
  {
   "cell_type": "code",
   "execution_count": 252,
   "id": "7c73b1ac",
   "metadata": {},
   "outputs": [
    {
     "name": "stderr",
     "output_type": "stream",
     "text": [
      "E:\\anaconda\\lib\\site-packages\\sklearn\\base.py:420: UserWarning: X does not have valid feature names, but OneHotEncoder was fitted with feature names\n",
      "  warnings.warn(\n"
     ]
    }
   ],
   "source": [
    "yadav_b = model.predict([test_input]).round()"
   ]
  },
  {
   "cell_type": "code",
   "execution_count": 397,
   "id": "21807351",
   "metadata": {},
   "outputs": [],
   "source": [
    "scores_b =np.array([cummins_b,smith_b,carry_b,inglis_b,abbott_b,labuchegn_b,green_b,hzelwood_b,\n",
    "          head_b*-1,marsh_b,maxwell_b,stoins_b,warner_b,zampa_b,starc_b,rohit_b,hardik_b,\n",
    "          shuban_b,virat_b,iyyer_b,rahul_b,jadeja_b,thakur_b,bumrah_b,siraj_b,kuldeep_b,\n",
    "          shami_b,aswhin_b,kishan_b,yadav_b])"
   ]
  },
  {
   "cell_type": "code",
   "execution_count": 399,
   "id": "f1ef5f2b",
   "metadata": {},
   "outputs": [],
   "source": [
    "sample=pd.read_csv(r'C:\\Users\\Mrunmay\\OneDrive\\Desktop\\sample_submission_Gk1Mne1.csv')"
   ]
  },
  {
   "cell_type": "code",
   "execution_count": 400,
   "id": "145eb7c8",
   "metadata": {},
   "outputs": [
    {
     "data": {
      "text/html": [
       "<div>\n",
       "<style scoped>\n",
       "    .dataframe tbody tr th:only-of-type {\n",
       "        vertical-align: middle;\n",
       "    }\n",
       "\n",
       "    .dataframe tbody tr th {\n",
       "        vertical-align: top;\n",
       "    }\n",
       "\n",
       "    .dataframe thead th {\n",
       "        text-align: right;\n",
       "    }\n",
       "</style>\n",
       "<table border=\"1\" class=\"dataframe\">\n",
       "  <thead>\n",
       "    <tr style=\"text-align: right;\">\n",
       "      <th></th>\n",
       "      <th>player_id</th>\n",
       "      <th>runs</th>\n",
       "      <th>wickets</th>\n",
       "    </tr>\n",
       "  </thead>\n",
       "  <tbody>\n",
       "    <tr>\n",
       "      <th>0</th>\n",
       "      <td>1</td>\n",
       "      <td>30</td>\n",
       "      <td>2</td>\n",
       "    </tr>\n",
       "    <tr>\n",
       "      <th>1</th>\n",
       "      <td>2</td>\n",
       "      <td>24</td>\n",
       "      <td>0</td>\n",
       "    </tr>\n",
       "    <tr>\n",
       "      <th>2</th>\n",
       "      <td>3</td>\n",
       "      <td>45</td>\n",
       "      <td>1</td>\n",
       "    </tr>\n",
       "    <tr>\n",
       "      <th>3</th>\n",
       "      <td>4</td>\n",
       "      <td>5</td>\n",
       "      <td>2</td>\n",
       "    </tr>\n",
       "    <tr>\n",
       "      <th>4</th>\n",
       "      <td>5</td>\n",
       "      <td>9</td>\n",
       "      <td>0</td>\n",
       "    </tr>\n",
       "  </tbody>\n",
       "</table>\n",
       "</div>"
      ],
      "text/plain": [
       "   player_id  runs  wickets\n",
       "0          1    30        2\n",
       "1          2    24        0\n",
       "2          3    45        1\n",
       "3          4     5        2\n",
       "4          5     9        0"
      ]
     },
     "execution_count": 400,
     "metadata": {},
     "output_type": "execute_result"
    }
   ],
   "source": [
    "sample.head()"
   ]
  },
  {
   "cell_type": "code",
   "execution_count": 401,
   "id": "0d1a8e44",
   "metadata": {},
   "outputs": [],
   "source": [
    "idp = data['player_id'].values"
   ]
  },
  {
   "cell_type": "code",
   "execution_count": 413,
   "id": "3b3689eb",
   "metadata": {},
   "outputs": [],
   "source": [
    "final_data = pd.DataFrame()"
   ]
  },
  {
   "cell_type": "code",
   "execution_count": 414,
   "id": "02515e1c",
   "metadata": {},
   "outputs": [],
   "source": [
    "final_data.insert(loc=0,column=\"player_id\",value=idp)"
   ]
  },
  {
   "cell_type": "code",
   "execution_count": 415,
   "id": "4d8f0967",
   "metadata": {},
   "outputs": [],
   "source": [
    "final_data.insert(loc=1,column=\"runs\",value=score)"
   ]
  },
  {
   "cell_type": "code",
   "execution_count": 420,
   "id": "f9a2eeb2",
   "metadata": {},
   "outputs": [],
   "source": [
    "final_data['runs'] = final_data['runs'].astype('int32')"
   ]
  },
  {
   "cell_type": "code",
   "execution_count": 417,
   "id": "917e2f55",
   "metadata": {},
   "outputs": [],
   "source": [
    "final_data.insert(loc=2,column=\"wickets\",value=scores_b)"
   ]
  },
  {
   "cell_type": "code",
   "execution_count": 422,
   "id": "7a358cac",
   "metadata": {},
   "outputs": [],
   "source": [
    "final_data['wickets'] = final_data['wickets'].astype('int32')"
   ]
  },
  {
   "cell_type": "code",
   "execution_count": 423,
   "id": "a5d7a41d",
   "metadata": {},
   "outputs": [
    {
     "data": {
      "text/html": [
       "<div>\n",
       "<style scoped>\n",
       "    .dataframe tbody tr th:only-of-type {\n",
       "        vertical-align: middle;\n",
       "    }\n",
       "\n",
       "    .dataframe tbody tr th {\n",
       "        vertical-align: top;\n",
       "    }\n",
       "\n",
       "    .dataframe thead th {\n",
       "        text-align: right;\n",
       "    }\n",
       "</style>\n",
       "<table border=\"1\" class=\"dataframe\">\n",
       "  <thead>\n",
       "    <tr style=\"text-align: right;\">\n",
       "      <th></th>\n",
       "      <th>player_id</th>\n",
       "      <th>runs</th>\n",
       "      <th>wickets</th>\n",
       "    </tr>\n",
       "  </thead>\n",
       "  <tbody>\n",
       "    <tr>\n",
       "      <th>0</th>\n",
       "      <td>1</td>\n",
       "      <td>26</td>\n",
       "      <td>2</td>\n",
       "    </tr>\n",
       "    <tr>\n",
       "      <th>1</th>\n",
       "      <td>2</td>\n",
       "      <td>68</td>\n",
       "      <td>0</td>\n",
       "    </tr>\n",
       "    <tr>\n",
       "      <th>2</th>\n",
       "      <td>3</td>\n",
       "      <td>27</td>\n",
       "      <td>0</td>\n",
       "    </tr>\n",
       "    <tr>\n",
       "      <th>3</th>\n",
       "      <td>4</td>\n",
       "      <td>31</td>\n",
       "      <td>0</td>\n",
       "    </tr>\n",
       "    <tr>\n",
       "      <th>4</th>\n",
       "      <td>5</td>\n",
       "      <td>14</td>\n",
       "      <td>2</td>\n",
       "    </tr>\n",
       "    <tr>\n",
       "      <th>5</th>\n",
       "      <td>6</td>\n",
       "      <td>33</td>\n",
       "      <td>0</td>\n",
       "    </tr>\n",
       "    <tr>\n",
       "      <th>6</th>\n",
       "      <td>7</td>\n",
       "      <td>13</td>\n",
       "      <td>0</td>\n",
       "    </tr>\n",
       "    <tr>\n",
       "      <th>7</th>\n",
       "      <td>8</td>\n",
       "      <td>6</td>\n",
       "      <td>2</td>\n",
       "    </tr>\n",
       "    <tr>\n",
       "      <th>8</th>\n",
       "      <td>9</td>\n",
       "      <td>87</td>\n",
       "      <td>0</td>\n",
       "    </tr>\n",
       "    <tr>\n",
       "      <th>9</th>\n",
       "      <td>10</td>\n",
       "      <td>0</td>\n",
       "      <td>0</td>\n",
       "    </tr>\n",
       "    <tr>\n",
       "      <th>10</th>\n",
       "      <td>11</td>\n",
       "      <td>18</td>\n",
       "      <td>0</td>\n",
       "    </tr>\n",
       "    <tr>\n",
       "      <th>11</th>\n",
       "      <td>12</td>\n",
       "      <td>22</td>\n",
       "      <td>0</td>\n",
       "    </tr>\n",
       "    <tr>\n",
       "      <th>12</th>\n",
       "      <td>13</td>\n",
       "      <td>72</td>\n",
       "      <td>0</td>\n",
       "    </tr>\n",
       "    <tr>\n",
       "      <th>13</th>\n",
       "      <td>14</td>\n",
       "      <td>1</td>\n",
       "      <td>1</td>\n",
       "    </tr>\n",
       "    <tr>\n",
       "      <th>14</th>\n",
       "      <td>15</td>\n",
       "      <td>10</td>\n",
       "      <td>2</td>\n",
       "    </tr>\n",
       "    <tr>\n",
       "      <th>15</th>\n",
       "      <td>16</td>\n",
       "      <td>56</td>\n",
       "      <td>0</td>\n",
       "    </tr>\n",
       "    <tr>\n",
       "      <th>16</th>\n",
       "      <td>17</td>\n",
       "      <td>30</td>\n",
       "      <td>1</td>\n",
       "    </tr>\n",
       "    <tr>\n",
       "      <th>17</th>\n",
       "      <td>18</td>\n",
       "      <td>66</td>\n",
       "      <td>0</td>\n",
       "    </tr>\n",
       "    <tr>\n",
       "      <th>18</th>\n",
       "      <td>19</td>\n",
       "      <td>38</td>\n",
       "      <td>0</td>\n",
       "    </tr>\n",
       "    <tr>\n",
       "      <th>19</th>\n",
       "      <td>20</td>\n",
       "      <td>22</td>\n",
       "      <td>0</td>\n",
       "    </tr>\n",
       "    <tr>\n",
       "      <th>20</th>\n",
       "      <td>21</td>\n",
       "      <td>40</td>\n",
       "      <td>2</td>\n",
       "    </tr>\n",
       "    <tr>\n",
       "      <th>21</th>\n",
       "      <td>22</td>\n",
       "      <td>11</td>\n",
       "      <td>2</td>\n",
       "    </tr>\n",
       "    <tr>\n",
       "      <th>22</th>\n",
       "      <td>23</td>\n",
       "      <td>8</td>\n",
       "      <td>1</td>\n",
       "    </tr>\n",
       "    <tr>\n",
       "      <th>23</th>\n",
       "      <td>24</td>\n",
       "      <td>2</td>\n",
       "      <td>2</td>\n",
       "    </tr>\n",
       "    <tr>\n",
       "      <th>24</th>\n",
       "      <td>25</td>\n",
       "      <td>2</td>\n",
       "      <td>3</td>\n",
       "    </tr>\n",
       "    <tr>\n",
       "      <th>25</th>\n",
       "      <td>26</td>\n",
       "      <td>2</td>\n",
       "      <td>0</td>\n",
       "    </tr>\n",
       "    <tr>\n",
       "      <th>26</th>\n",
       "      <td>27</td>\n",
       "      <td>0</td>\n",
       "      <td>1</td>\n",
       "    </tr>\n",
       "    <tr>\n",
       "      <th>27</th>\n",
       "      <td>28</td>\n",
       "      <td>18</td>\n",
       "      <td>1</td>\n",
       "    </tr>\n",
       "    <tr>\n",
       "      <th>28</th>\n",
       "      <td>29</td>\n",
       "      <td>23</td>\n",
       "      <td>0</td>\n",
       "    </tr>\n",
       "    <tr>\n",
       "      <th>29</th>\n",
       "      <td>30</td>\n",
       "      <td>25</td>\n",
       "      <td>0</td>\n",
       "    </tr>\n",
       "  </tbody>\n",
       "</table>\n",
       "</div>"
      ],
      "text/plain": [
       "    player_id  runs  wickets\n",
       "0           1    26        2\n",
       "1           2    68        0\n",
       "2           3    27        0\n",
       "3           4    31        0\n",
       "4           5    14        2\n",
       "5           6    33        0\n",
       "6           7    13        0\n",
       "7           8     6        2\n",
       "8           9    87        0\n",
       "9          10     0        0\n",
       "10         11    18        0\n",
       "11         12    22        0\n",
       "12         13    72        0\n",
       "13         14     1        1\n",
       "14         15    10        2\n",
       "15         16    56        0\n",
       "16         17    30        1\n",
       "17         18    66        0\n",
       "18         19    38        0\n",
       "19         20    22        0\n",
       "20         21    40        2\n",
       "21         22    11        2\n",
       "22         23     8        1\n",
       "23         24     2        2\n",
       "24         25     2        3\n",
       "25         26     2        0\n",
       "26         27     0        1\n",
       "27         28    18        1\n",
       "28         29    23        0\n",
       "29         30    25        0"
      ]
     },
     "execution_count": 423,
     "metadata": {},
     "output_type": "execute_result"
    }
   ],
   "source": [
    "final_data"
   ]
  },
  {
   "cell_type": "code",
   "execution_count": 424,
   "id": "f462735b",
   "metadata": {},
   "outputs": [],
   "source": [
    "final_data.to_csv('final_submission.csv')"
   ]
  },
  {
   "cell_type": "markdown",
   "id": "f89faddb",
   "metadata": {},
   "source": [
    "# END"
   ]
  },
  {
   "cell_type": "code",
   "execution_count": null,
   "id": "391e118e",
   "metadata": {},
   "outputs": [],
   "source": []
  }
 ],
 "metadata": {
  "kernelspec": {
   "display_name": "Python 3 (ipykernel)",
   "language": "python",
   "name": "python3"
  },
  "language_info": {
   "codemirror_mode": {
    "name": "ipython",
    "version": 3
   },
   "file_extension": ".py",
   "mimetype": "text/x-python",
   "name": "python",
   "nbconvert_exporter": "python",
   "pygments_lexer": "ipython3",
   "version": "3.10.12"
  }
 },
 "nbformat": 4,
 "nbformat_minor": 5
}
